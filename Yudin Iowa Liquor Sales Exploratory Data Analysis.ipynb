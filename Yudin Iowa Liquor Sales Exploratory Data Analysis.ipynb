{
 "cells": [
  {
   "cell_type": "code",
   "execution_count": 1,
   "metadata": {
    "ExecuteTime": {
     "end_time": "2018-09-30T16:18:11.752951Z",
     "start_time": "2018-09-30T16:18:07.200506Z"
    },
    "run_control": {
     "frozen": false,
     "read_only": false
    }
   },
   "outputs": [
    {
     "name": "stdout",
     "output_type": "stream",
     "text": [
      "Populating the interactive namespace from numpy and matplotlib\n"
     ]
    }
   ],
   "source": [
    "import numpy as np\n",
    "import pandas as pd\n",
    "import seaborn as sns\n",
    "import matplotlib.pyplot as plt\n",
    "import pickle as pkl\n",
    "%pylab inline\n",
    "figsize(12, 9)\n",
    "plt.rc('text', usetex=False)\n",
    "plt.rc('font', family='serif')\n",
    "plt.rc('font', weight='normal')\n",
    "plt.rc('font', size=16)\n",
    "plt.rc('xtick', labelsize=14) \n",
    "plt.rc('ytick', labelsize=14)\n",
    "from tqdm import tnrange, tqdm_notebook, tqdm\n",
    "import os\n",
    "import sys\n",
    "import requests\n",
    "dataset = pd.read_csv('./Iowa_Liquor_Sales.csv')"
   ]
  },
  {
   "cell_type": "markdown",
   "metadata": {
    "run_control": {
     "frozen": false,
     "read_only": false
    }
   },
   "source": [
    "Источник данных с описанием по [ссылке](https://data.iowa.gov/Economy/Iowa-Liquor-Sales/m3tr-qhgy)."
   ]
  },
  {
   "cell_type": "code",
   "execution_count": 3,
   "metadata": {
    "ExecuteTime": {
     "end_time": "2018-09-30T05:54:44.387885Z",
     "start_time": "2018-09-30T05:31:36.183184Z"
    },
    "run_control": {
     "frozen": false,
     "read_only": false
    }
   },
   "outputs": [
    {
     "name": "stderr",
     "output_type": "stream",
     "text": [
      "dataset formed: 100%|██████████| 125/125 [06:13<00:00,  2.98s/it]\n"
     ]
    }
   ],
   "source": [
    "dataset.dropna(inplace=True)\n",
    "dataset.drop(['Volume Sold (Gallons)', 'Pack', 'Item Number', 'Vendor Number', 'Category', 'County Number',\n",
    "              'Store Location', 'Zip Code', 'Address', 'Store Name', 'Store Number', 'Invoice/Item Number'],\n",
    "             axis=1, inplace=True)\n",
    "dataset.replace('[\\$,]', '', regex=True, inplace=True)\n",
    "dataset.Date = pd.to_datetime(dataset.Date, infer_datetime_format=True)\n",
    "dataset['Day of Week'] = dataset.Date.dt.dayofweek\n",
    "dataset['Month'] = dataset.Date.dt.month\n",
    "dataset['Year'] = dataset.Date.dt.year\n",
    "dataset['Day of Year'] = dataset.Date.dt.dayofyear\n",
    "batch_size = 100000\n",
    "for row_pos in tqdm(range(0, dataset.shape[0], batch_size), desc='dataset formed'):\n",
    "    dataset.loc[row_pos: row_pos + batch_size, 'City'] = dataset.loc[row_pos: row_pos + batch_size,\\\n",
    "                                                                     'City'].str.upper()\n",
    "    dataset.loc[row_pos: row_pos + batch_size, 'County'] = dataset.loc[row_pos: row_pos + batch_size,\\\n",
    "                                                                       'County'].str.upper()\n",
    "    dataset.loc[row_pos: row_pos + batch_size, 'Category Name'] = dataset.loc[row_pos: row_pos + batch_size,\\\n",
    "                                                                              'Category Name'].str.upper()\n",
    "    dataset.loc[row_pos: row_pos + batch_size, 'Vendor Name'] = dataset.loc[row_pos: row_pos + batch_size,\\\n",
    "                                                                            'Vendor Name'].str.upper()\n",
    "    dataset.loc[row_pos: row_pos + batch_size, 'Item Description'] = dataset.loc[row_pos: row_pos + batch_size,\\\n",
    "                                                                                 'Item Description'].str.upper()\n",
    "dataset.loc[-batch_size:, 'City'] = dataset.loc[-batch_size:, 'City'].str.upper()\n",
    "dataset.loc[-batch_size:, 'County'] = dataset.loc[-batch_size:, 'County'].str.upper()\n",
    "dataset.loc[-batch_size:, 'Category Name'] = dataset.loc[-batch_size:, 'Category Name'].str.upper()\n",
    "dataset.loc[-batch_size:, 'Vendor Name'] = dataset.loc[-batch_size:, 'Vendor Name'].str.upper()\n",
    "dataset.loc[-batch_size:, 'Item Description'] = dataset.loc[-batch_size:, 'Item Description'].str.upper()\n",
    "dataset.loc[dataset.loc[:, 'County'] == 'BUENA VIST', 'County'] = 'BUENA VISTA'\n",
    "dataset.loc[dataset.loc[:, 'County'] == 'CERRO GORD', 'County'] = 'CERRO GORDO'\n",
    "dataset.loc[dataset.loc[:, 'County'] == 'OBRIEN', 'County'] = \"O'BRIEN\"\n",
    "dataset.loc[dataset.loc[:, 'County'] == 'POTTAWATTA', 'County'] = 'POTTAWATTAMIE'\n",
    "dataset.loc[dataset.loc[:, 'City'] == 'KELLOG', 'City'] = 'KELLOGG'\n",
    "dataset.loc[dataset.loc[:, 'City'] == \"ARNOLD'S PARK\", 'City'] = 'ARNOLDS PARK'\n",
    "dataset.loc[dataset.loc[:, 'City'] == 'CLEARLAKE', 'City'] = 'CLEAR LAKE'\n",
    "dataset.loc[dataset.loc[:, 'City'] == 'FT. ATKINSON', 'City'] = 'FORT ATKINSON'\n",
    "dataset.loc[dataset.loc[:, 'City'] == 'GRAND MOUNDS', 'City'] = 'GRAND MOUND'\n",
    "dataset.loc[dataset.loc[:, 'City'] == 'GUTTENBURG', 'City'] = 'GUTTENBERG'\n",
    "dataset.loc[dataset.loc[:, 'City'] == 'MT PLEASANT', 'City'] = 'MOUNT PLEASANT'\n",
    "dataset.loc[dataset.loc[:, 'City'] == 'MT VERNON', 'City'] = 'MOUNT VERNON'\n",
    "dataset.loc[dataset.loc[:, 'City'] == 'OTUMWA', 'City'] = 'OTTUMWA'\n",
    "dataset.loc[dataset.loc[:, 'City'] == 'OTTUWMA', 'City'] = 'OTTUMWA'\n",
    "dataset.to_csv('./Processed_Iowa_Liquor_Sales.csv', index=False)"
   ]
  },
  {
   "cell_type": "code",
   "execution_count": 2,
   "metadata": {
    "ExecuteTime": {
     "end_time": "2018-09-30T13:09:44.830184Z",
     "start_time": "2018-09-30T13:08:58.753568Z"
    },
    "run_control": {
     "frozen": false,
     "read_only": false
    }
   },
   "outputs": [
    {
     "data": {
      "text/html": [
       "<div>\n",
       "<table border=\"1\" class=\"dataframe\">\n",
       "  <thead>\n",
       "    <tr style=\"text-align: right;\">\n",
       "      <th></th>\n",
       "      <th>Date</th>\n",
       "      <th>City</th>\n",
       "      <th>County</th>\n",
       "      <th>Category Name</th>\n",
       "      <th>Vendor Name</th>\n",
       "      <th>Item Description</th>\n",
       "      <th>Bottle Volume (ml)</th>\n",
       "      <th>State Bottle Cost</th>\n",
       "      <th>State Bottle Retail</th>\n",
       "      <th>Bottles Sold</th>\n",
       "      <th>Sale (Dollars)</th>\n",
       "      <th>Volume Sold (Liters)</th>\n",
       "      <th>Day of Week</th>\n",
       "      <th>Month</th>\n",
       "      <th>Year</th>\n",
       "      <th>Day of Year</th>\n",
       "    </tr>\n",
       "  </thead>\n",
       "  <tbody>\n",
       "    <tr>\n",
       "      <th>0</th>\n",
       "      <td>2015-11-09</td>\n",
       "      <td>WATERLOO</td>\n",
       "      <td>BLACK HAWK</td>\n",
       "      <td>DECANTERS &amp; SPECIALTY PACKAGES</td>\n",
       "      <td>DUGGAN'S DISTILLERS PRODUCTS CORP</td>\n",
       "      <td>FORBIDDEN SECRET COFFEE PACK</td>\n",
       "      <td>1500</td>\n",
       "      <td>11.62</td>\n",
       "      <td>17.43</td>\n",
       "      <td>6</td>\n",
       "      <td>104.58</td>\n",
       "      <td>9.0</td>\n",
       "      <td>0</td>\n",
       "      <td>11</td>\n",
       "      <td>2015</td>\n",
       "      <td>313</td>\n",
       "    </tr>\n",
       "    <tr>\n",
       "      <th>1</th>\n",
       "      <td>2015-11-30</td>\n",
       "      <td>MUSCATINE</td>\n",
       "      <td>MUSCATINE</td>\n",
       "      <td>DECANTERS &amp; SPECIALTY PACKAGES</td>\n",
       "      <td>JIM BEAM BRANDS</td>\n",
       "      <td>LAPHROAIG W/ WHISKEY STONES</td>\n",
       "      <td>750</td>\n",
       "      <td>19.58</td>\n",
       "      <td>29.37</td>\n",
       "      <td>4</td>\n",
       "      <td>117.48</td>\n",
       "      <td>3.0</td>\n",
       "      <td>0</td>\n",
       "      <td>11</td>\n",
       "      <td>2015</td>\n",
       "      <td>334</td>\n",
       "    </tr>\n",
       "    <tr>\n",
       "      <th>2</th>\n",
       "      <td>2015-11-11</td>\n",
       "      <td>HOLSTEIN</td>\n",
       "      <td>IDA</td>\n",
       "      <td>DECANTERS &amp; SPECIALTY PACKAGES</td>\n",
       "      <td>DUGGAN'S DISTILLERS PRODUCTS CORP</td>\n",
       "      <td>FORBIDDEN SECRET COFFEE PACK</td>\n",
       "      <td>1500</td>\n",
       "      <td>11.62</td>\n",
       "      <td>17.43</td>\n",
       "      <td>1</td>\n",
       "      <td>17.43</td>\n",
       "      <td>1.5</td>\n",
       "      <td>2</td>\n",
       "      <td>11</td>\n",
       "      <td>2015</td>\n",
       "      <td>315</td>\n",
       "    </tr>\n",
       "    <tr>\n",
       "      <th>3</th>\n",
       "      <td>2015-11-18</td>\n",
       "      <td>ONAWA</td>\n",
       "      <td>MONONA</td>\n",
       "      <td>CREAM LIQUEURS</td>\n",
       "      <td>MHW LTD</td>\n",
       "      <td>RUMCHATA \"GOCHATAS\"</td>\n",
       "      <td>6000</td>\n",
       "      <td>99.00</td>\n",
       "      <td>148.50</td>\n",
       "      <td>1</td>\n",
       "      <td>148.50</td>\n",
       "      <td>6.0</td>\n",
       "      <td>2</td>\n",
       "      <td>11</td>\n",
       "      <td>2015</td>\n",
       "      <td>322</td>\n",
       "    </tr>\n",
       "    <tr>\n",
       "      <th>4</th>\n",
       "      <td>2015-11-23</td>\n",
       "      <td>PELLA</td>\n",
       "      <td>MARION</td>\n",
       "      <td>DECANTERS &amp; SPECIALTY PACKAGES</td>\n",
       "      <td>DUGGAN'S DISTILLERS PRODUCTS CORP</td>\n",
       "      <td>FORBIDDEN SECRET COFFEE PACK</td>\n",
       "      <td>1500</td>\n",
       "      <td>11.62</td>\n",
       "      <td>17.43</td>\n",
       "      <td>6</td>\n",
       "      <td>104.58</td>\n",
       "      <td>9.0</td>\n",
       "      <td>0</td>\n",
       "      <td>11</td>\n",
       "      <td>2015</td>\n",
       "      <td>327</td>\n",
       "    </tr>\n",
       "  </tbody>\n",
       "</table>\n",
       "</div>"
      ],
      "text/plain": [
       "         Date       City      County                   Category Name  \\\n",
       "0  2015-11-09   WATERLOO  BLACK HAWK  DECANTERS & SPECIALTY PACKAGES   \n",
       "1  2015-11-30  MUSCATINE   MUSCATINE  DECANTERS & SPECIALTY PACKAGES   \n",
       "2  2015-11-11   HOLSTEIN         IDA  DECANTERS & SPECIALTY PACKAGES   \n",
       "3  2015-11-18      ONAWA      MONONA                  CREAM LIQUEURS   \n",
       "4  2015-11-23      PELLA      MARION  DECANTERS & SPECIALTY PACKAGES   \n",
       "\n",
       "                         Vendor Name              Item Description  \\\n",
       "0  DUGGAN'S DISTILLERS PRODUCTS CORP  FORBIDDEN SECRET COFFEE PACK   \n",
       "1                    JIM BEAM BRANDS   LAPHROAIG W/ WHISKEY STONES   \n",
       "2  DUGGAN'S DISTILLERS PRODUCTS CORP  FORBIDDEN SECRET COFFEE PACK   \n",
       "3                            MHW LTD           RUMCHATA \"GOCHATAS\"   \n",
       "4  DUGGAN'S DISTILLERS PRODUCTS CORP  FORBIDDEN SECRET COFFEE PACK   \n",
       "\n",
       "   Bottle Volume (ml)  State Bottle Cost  State Bottle Retail  Bottles Sold  \\\n",
       "0                1500              11.62                17.43             6   \n",
       "1                 750              19.58                29.37             4   \n",
       "2                1500              11.62                17.43             1   \n",
       "3                6000              99.00               148.50             1   \n",
       "4                1500              11.62                17.43             6   \n",
       "\n",
       "   Sale (Dollars)  Volume Sold (Liters)  Day of Week  Month  Year  Day of Year  \n",
       "0          104.58                   9.0            0     11  2015          313  \n",
       "1          117.48                   3.0            0     11  2015          334  \n",
       "2           17.43                   1.5            2     11  2015          315  \n",
       "3          148.50                   6.0            2     11  2015          322  \n",
       "4          104.58                   9.0            0     11  2015          327  "
      ]
     },
     "execution_count": 2,
     "metadata": {},
     "output_type": "execute_result"
    }
   ],
   "source": [
    "dataset = pd.read_csv('./Processed_Iowa_Liquor_Sales.csv')\n",
    "dataset.head()"
   ]
  },
  {
   "cell_type": "code",
   "execution_count": 3,
   "metadata": {
    "ExecuteTime": {
     "end_time": "2018-09-30T06:16:16.518135Z",
     "start_time": "2018-09-30T06:16:16.514639Z"
    },
    "run_control": {
     "frozen": false,
     "read_only": false
    }
   },
   "outputs": [
    {
     "data": {
      "text/plain": [
       "(12495974, 16)"
      ]
     },
     "execution_count": 3,
     "metadata": {},
     "output_type": "execute_result"
    }
   ],
   "source": [
    "dataset.shape"
   ]
  },
  {
   "cell_type": "code",
   "execution_count": 41,
   "metadata": {
    "ExecuteTime": {
     "end_time": "2018-09-30T07:43:41.606282Z",
     "start_time": "2018-09-30T07:43:29.701334Z"
    },
    "run_control": {
     "frozen": false,
     "read_only": false
    }
   },
   "outputs": [],
   "source": [
    "unique_categories, unique_counts = np.unique(dataset.loc[:, 'Category Name'], return_counts=True)"
   ]
  },
  {
   "cell_type": "code",
   "execution_count": 6,
   "metadata": {
    "ExecuteTime": {
     "end_time": "2018-09-30T13:25:39.294671Z",
     "start_time": "2018-09-30T13:25:38.964661Z"
    },
    "run_control": {
     "frozen": false,
     "read_only": false
    }
   },
   "outputs": [],
   "source": [
    "total_year_sales = dataset.loc[:, ['Year', 'Volume Sold (Liters)']].groupby('Year').sum()"
   ]
  },
  {
   "cell_type": "code",
   "execution_count": 58,
   "metadata": {
    "ExecuteTime": {
     "end_time": "2018-09-30T14:01:52.966180Z",
     "start_time": "2018-09-30T14:01:52.681399Z"
    },
    "run_control": {
     "frozen": false,
     "read_only": false
    }
   },
   "outputs": [
    {
     "data": {
      "image/png": "[encoded data removed]",
      "text/plain": [
       "<matplotlib.figure.Figure at 0x7f71fb9be1d0>"
      ]
     },
     "metadata": {},
     "output_type": "display_data"
    }
   ],
   "source": [
    "x = np.array(total_year_sales.index)\n",
    "y = total_year_sales.as_matrix().ravel()\n",
    "figsize(10, 8)\n",
    "nd = np.arange(x.shape[0])\n",
    "width = 0.8\n",
    "barlist = plt.bar(nd, y, color='b')\n",
    "barlist[-2].set_color('g')\n",
    "barlist[-1].set_color('r')\n",
    "plt.xticks(nd + width / 50, tuple(str(year) for year in x))\n",
    "plt.xlim(-1, x.shape[0])\n",
    "plt.xlabel('год', fontsize=14)\n",
    "plt.ylabel('количество литров', fontsize=14)\n",
    "plt.title('Суммарные заказы в разные года', fontsize=16)\n",
    "plt.show()"
   ]
  },
  {
   "cell_type": "code",
   "execution_count": 164,
   "metadata": {
    "ExecuteTime": {
     "end_time": "2018-09-30T16:14:45.952343Z",
     "start_time": "2018-09-30T16:14:45.023884Z"
    },
    "run_control": {
     "frozen": false,
     "read_only": false
    }
   },
   "outputs": [],
   "source": [
    "total_year_sales = dataset.loc[:, ['Day of Year', 'Year', 'Volume Sold (Liters)']].groupby(['Year',\n",
    "                                                                                            'Day of Year']).sum()"
   ]
  },
  {
   "cell_type": "code",
   "execution_count": 165,
   "metadata": {
    "ExecuteTime": {
     "end_time": "2018-09-30T16:14:46.211114Z",
     "start_time": "2018-09-30T16:14:45.954672Z"
    },
    "run_control": {
     "frozen": false,
     "read_only": false
    }
   },
   "outputs": [
    {
     "data": {
      "image/png": "[encoded data removed]",
      "text/plain": [
       "<matplotlib.figure.Figure at 0x7f71f20f9b00>"
      ]
     },
     "metadata": {},
     "output_type": "display_data"
    }
   ],
   "source": [
    "plt.figure(figsize=(10, 8))\n",
    "plt.title('Суммарные заказы в разные года по дням', fontsize=16)\n",
    "plt.xlabel(r'день', fontsize=14)\n",
    "plt.ylabel(r'количество литров', fontsize=14)\n",
    "plt.axis([1, 366, 0, 250000])\n",
    "special_day_1 = np.array(total_year_sales.loc[(2013,\\\n",
    "                slice(None))].index)[np.array(total_year_sales.loc[(2013, slice(None))]).ravel().argmax()]\n",
    "plt.axvline(x=special_day_1, color='magenta', linestyle='--', label=r'4 октября 2013 года',\n",
    "            linewidth=2, marker='o', markersize=4)\n",
    "plt.fill_between(np.arange(180, 245), np.ones(65) * 250000, facecolor='magenta', interpolate=True, alpha=0.25,\n",
    "                 label='июль-август')\n",
    "plt.scatter(np.array(total_year_sales.loc[(2012, slice(None))].index),\n",
    "            np.array(total_year_sales.loc[(2012, slice(None))]).ravel(), label=r'2012 год', c='black',\n",
    "            linewidth=4, marker='*', s=24)\n",
    "plt.scatter(np.array(total_year_sales.loc[(2013, slice(None))].index),\n",
    "            np.array(total_year_sales.loc[(2013, slice(None))]).ravel(), label=r'2013 год', c='blue',\n",
    "            linewidth=4, marker='*', s=24)\n",
    "plt.scatter(np.array(total_year_sales.loc[(2014, slice(None))].index),\n",
    "            np.array(total_year_sales.loc[(2014, slice(None))]).ravel(), label=r'2014 год', c='cyan',\n",
    "            linewidth=4, marker='*', s=24, alpha=1)\n",
    "plt.scatter(np.array(total_year_sales.loc[(2015, slice(None))].index),\n",
    "            np.array(total_year_sales.loc[(2015, slice(None))]).ravel(), label=r'2015 год', c='red',\n",
    "            linewidth=4, marker='*', s=24)\n",
    "plt.scatter(np.array(total_year_sales.loc[(2016, slice(None))].index),\n",
    "            np.array(total_year_sales.loc[(2016, slice(None))]).ravel(), label=r'2016 год', c='green',\n",
    "            linewidth=4, marker='*', s=24)\n",
    "plt.legend(loc=2)\n",
    "#plt.rcParams['figure.bgcolor'] = 'white'\n",
    "plt.show()"
   ]
  },
  {
   "cell_type": "code",
   "execution_count": 166,
   "metadata": {
    "ExecuteTime": {
     "end_time": "2018-09-30T16:14:47.253865Z",
     "start_time": "2018-09-30T16:14:46.403210Z"
    },
    "run_control": {
     "frozen": false,
     "read_only": false
    }
   },
   "outputs": [],
   "source": [
    "total_year_sales = dataset.loc[:, ['Month', 'Year', 'Volume Sold (Liters)']].groupby(['Year', 'Month']).sum()"
   ]
  },
  {
   "cell_type": "code",
   "execution_count": 167,
   "metadata": {
    "ExecuteTime": {
     "end_time": "2018-09-30T16:14:47.729874Z",
     "start_time": "2018-09-30T16:14:47.255893Z"
    },
    "run_control": {
     "frozen": false,
     "read_only": false
    }
   },
   "outputs": [
    {
     "data": {
      "image/png": "[encoded data removed]",
      "text/plain": [
       "<matplotlib.figure.Figure at 0x7f71f21be6a0>"
      ]
     },
     "metadata": {},
     "output_type": "display_data"
    }
   ],
   "source": [
    "figsize(14, 8)\n",
    "nd = np.arange(12)\n",
    "width = 0.8\n",
    "fig, ax = plt.subplots()\n",
    "p1 = ax.bar(np.arange(12), total_year_sales.loc[(2012, slice(None))].as_matrix().ravel(), width / 2, color='black')\n",
    "p2 = ax.bar(np.arange(12) + width / 8, total_year_sales.loc[(2013, slice(None))].as_matrix().ravel(), width / 2,\\\n",
    "            color='blue')\n",
    "p3 = ax.bar(np.arange(12) + width / 4, total_year_sales.loc[(2014, slice(None))].as_matrix().ravel(),\\\n",
    "            width / 2, color='cyan')\n",
    "p4 = ax.bar(np.arange(12) + 3 * width / 8, total_year_sales.loc[(2015, slice(None))].as_matrix().ravel(),\\\n",
    "            width / 2, color='red')\n",
    "plt.xticks(nd + width / 4, ('Январь', 'Февраль', 'Март', 'Апрель', 'Май', 'Июнь', 'Июль', 'Август', 'Сентябрь',\\\n",
    "                             'Октябрь', 'Ноябрь', 'Декабрь'))\n",
    "ax.legend((p1[0], p2[0], p3[0], p4[0]), ('2012 год', '2013 год', '2014 год', '2015 год'))\n",
    "plt.xlim(-1, 12)\n",
    "plt.xticks(rotation=45)\n",
    "plt.xlabel('месяц', fontsize=14)\n",
    "plt.ylabel('количество литров', fontsize=14)\n",
    "plt.title('Суммарные заказы в разные года', fontsize=16)\n",
    "plt.show()"
   ]
  },
  {
   "cell_type": "code",
   "execution_count": 168,
   "metadata": {
    "ExecuteTime": {
     "end_time": "2018-09-30T16:14:48.563315Z",
     "start_time": "2018-09-30T16:14:47.732650Z"
    },
    "run_control": {
     "frozen": false,
     "read_only": false
    }
   },
   "outputs": [],
   "source": [
    "total_year_sales = dataset.loc[:, ['Day of Week', 'Year', 'Volume Sold (Liters)']].groupby(['Year',\\\n",
    "                                                                                            'Day of Week']).sum()"
   ]
  },
  {
   "cell_type": "code",
   "execution_count": 169,
   "metadata": {
    "ExecuteTime": {
     "end_time": "2018-09-30T16:14:48.816026Z",
     "start_time": "2018-09-30T16:14:48.565285Z"
    },
    "run_control": {
     "frozen": false,
     "read_only": false
    }
   },
   "outputs": [
    {
     "data": {
      "image/png": "[encoded data removed]",
      "text/plain": [
       "<matplotlib.figure.Figure at 0x7f71fb76a860>"
      ]
     },
     "metadata": {},
     "output_type": "display_data"
    }
   ],
   "source": [
    "figsize(10, 8)\n",
    "nd = np.arange(6)\n",
    "width = 0.8\n",
    "fig, ax = plt.subplots()\n",
    "p1 = ax.bar(np.arange(6), total_year_sales.loc[(2012, slice(None))].as_matrix().ravel(), width / 2, color='black')\n",
    "p2 = ax.bar(np.arange(6) + width / 8, total_year_sales.loc[(2013, slice(None))].as_matrix().ravel(), width / 2,\\\n",
    "            color='blue')\n",
    "p3 = ax.bar(np.arange(6) + width / 4, total_year_sales.loc[(2014, slice(None))].as_matrix().ravel(),\\\n",
    "            width / 2, color='cyan')\n",
    "p4 = ax.bar(np.arange(6) + 3 * width / 8, total_year_sales.loc[(2015, slice(None))].as_matrix().ravel(),\\\n",
    "            width / 2, color='red')\n",
    "plt.xticks(nd + width / 4, ('Понедельник', 'Вторник', 'Среда', 'Четверг', 'Пятница', 'Суббота'))\n",
    "ax.legend((p1[0], p2[0], p3[0], p4[0]), ('2012 год', '2013 год', '2014 год', '2015 год'))\n",
    "plt.xlim(-1, 6)\n",
    "plt.xticks(rotation=45)\n",
    "plt.xlabel('день недели', fontsize=14)\n",
    "plt.ylabel('количество литров', fontsize=14)\n",
    "plt.title('Суммарные заказы в разные года', fontsize=16)\n",
    "plt.show()"
   ]
  },
  {
   "cell_type": "code",
   "execution_count": 42,
   "metadata": {
    "ExecuteTime": {
     "end_time": "2018-09-30T07:43:41.617047Z",
     "start_time": "2018-09-30T07:43:41.607948Z"
    },
    "run_control": {
     "frozen": false,
     "read_only": false
    }
   },
   "outputs": [],
   "source": [
    "cat_df = pd.DataFrame({'Категория алкоголя': unique_categories, 'количество вхождений': unique_counts})\n",
    "cat_df.sort_values(['количество вхождений'], ascending=False, inplace=True)\n",
    "cat_df.set_index(drop=True, inplace=True, keys='Категория алкоголя')"
   ]
  },
  {
   "cell_type": "code",
   "execution_count": 43,
   "metadata": {
    "ExecuteTime": {
     "end_time": "2018-09-30T07:43:41.706114Z",
     "start_time": "2018-09-30T07:43:41.620774Z"
    },
    "run_control": {
     "frozen": false,
     "read_only": false
    }
   },
   "outputs": [
    {
     "data": {
      "text/html": [
       "<div>\n",
       "<table border=\"1\" class=\"dataframe\">\n",
       "  <thead>\n",
       "    <tr style=\"text-align: right;\">\n",
       "      <th></th>\n",
       "      <th>количество вхождений</th>\n",
       "    </tr>\n",
       "    <tr>\n",
       "      <th>Категория алкоголя</th>\n",
       "      <th></th>\n",
       "    </tr>\n",
       "  </thead>\n",
       "  <tbody>\n",
       "    <tr>\n",
       "      <th>VODKA 80 PROOF</th>\n",
       "      <td>1255745</td>\n",
       "    </tr>\n",
       "    <tr>\n",
       "      <th>CANADIAN WHISKIES</th>\n",
       "      <td>1199556</td>\n",
       "    </tr>\n",
       "    <tr>\n",
       "      <th>STRAIGHT BOURBON WHISKIES</th>\n",
       "      <td>698830</td>\n",
       "    </tr>\n",
       "    <tr>\n",
       "      <th>SPICED RUM</th>\n",
       "      <td>668211</td>\n",
       "    </tr>\n",
       "    <tr>\n",
       "      <th>BLENDED WHISKIES</th>\n",
       "      <td>551093</td>\n",
       "    </tr>\n",
       "    <tr>\n",
       "      <th>VODKA FLAVORED</th>\n",
       "      <td>498464</td>\n",
       "    </tr>\n",
       "    <tr>\n",
       "      <th>WHISKEY LIQUEUR</th>\n",
       "      <td>450834</td>\n",
       "    </tr>\n",
       "    <tr>\n",
       "      <th>IMPORTED VODKA</th>\n",
       "      <td>445845</td>\n",
       "    </tr>\n",
       "    <tr>\n",
       "      <th>TEQUILA</th>\n",
       "      <td>431200</td>\n",
       "    </tr>\n",
       "    <tr>\n",
       "      <th>PUERTO RICO &amp; VIRGIN ISLANDS RUM</th>\n",
       "      <td>392776</td>\n",
       "    </tr>\n",
       "    <tr>\n",
       "      <th>FLAVORED RUM</th>\n",
       "      <td>346966</td>\n",
       "    </tr>\n",
       "    <tr>\n",
       "      <th>TENNESSEE WHISKIES</th>\n",
       "      <td>315293</td>\n",
       "    </tr>\n",
       "    <tr>\n",
       "      <th>AMERICAN DRY GINS</th>\n",
       "      <td>314933</td>\n",
       "    </tr>\n",
       "    <tr>\n",
       "      <th>CREAM LIQUEURS</th>\n",
       "      <td>288133</td>\n",
       "    </tr>\n",
       "    <tr>\n",
       "      <th>AMERICAN COCKTAILS</th>\n",
       "      <td>282522</td>\n",
       "    </tr>\n",
       "    <tr>\n",
       "      <th>IMPORTED VODKA - MISC</th>\n",
       "      <td>254244</td>\n",
       "    </tr>\n",
       "    <tr>\n",
       "      <th>SCOTCH WHISKIES</th>\n",
       "      <td>246310</td>\n",
       "    </tr>\n",
       "    <tr>\n",
       "      <th>MISC. IMPORTED CORDIALS &amp; LIQUEURS</th>\n",
       "      <td>244148</td>\n",
       "    </tr>\n",
       "    <tr>\n",
       "      <th>AMERICAN GRAPE BRANDIES</th>\n",
       "      <td>241132</td>\n",
       "    </tr>\n",
       "    <tr>\n",
       "      <th>AMERICAN VODKAS</th>\n",
       "      <td>240821</td>\n",
       "    </tr>\n",
       "    <tr>\n",
       "      <th>IMPORTED SCHNAPPS</th>\n",
       "      <td>210284</td>\n",
       "    </tr>\n",
       "    <tr>\n",
       "      <th>AMERICAN VODKA</th>\n",
       "      <td>162727</td>\n",
       "    </tr>\n",
       "    <tr>\n",
       "      <th>IMPORTED GRAPE BRANDIES</th>\n",
       "      <td>153589</td>\n",
       "    </tr>\n",
       "    <tr>\n",
       "      <th>AMERICAN FLAVORED VODKA</th>\n",
       "      <td>142984</td>\n",
       "    </tr>\n",
       "    <tr>\n",
       "      <th>IMPORTED DRY GINS</th>\n",
       "      <td>141585</td>\n",
       "    </tr>\n",
       "    <tr>\n",
       "      <th>MISC. AMERICAN CORDIALS &amp; LIQUEURS</th>\n",
       "      <td>126538</td>\n",
       "    </tr>\n",
       "    <tr>\n",
       "      <th>PEPPERMINT SCHNAPPS</th>\n",
       "      <td>119254</td>\n",
       "    </tr>\n",
       "    <tr>\n",
       "      <th>IRISH WHISKIES</th>\n",
       "      <td>117525</td>\n",
       "    </tr>\n",
       "    <tr>\n",
       "      <th>SINGLE MALT SCOTCH</th>\n",
       "      <td>105562</td>\n",
       "    </tr>\n",
       "    <tr>\n",
       "      <th>100 PROOF VODKA</th>\n",
       "      <td>98976</td>\n",
       "    </tr>\n",
       "    <tr>\n",
       "      <th>...</th>\n",
       "      <td>...</td>\n",
       "    </tr>\n",
       "    <tr>\n",
       "      <th>HOLIDAY VAP</th>\n",
       "      <td>6342</td>\n",
       "    </tr>\n",
       "    <tr>\n",
       "      <th>NEUTRAL GRAIN SPIRITS</th>\n",
       "      <td>6234</td>\n",
       "    </tr>\n",
       "    <tr>\n",
       "      <th>SPECIAL ORDER ITEMS</th>\n",
       "      <td>4999</td>\n",
       "    </tr>\n",
       "    <tr>\n",
       "      <th>NEUTRAL GRAIN SPIRITS FLAVORED</th>\n",
       "      <td>4074</td>\n",
       "    </tr>\n",
       "    <tr>\n",
       "      <th>MISCELLANEOUS  BRANDIES</th>\n",
       "      <td>4042</td>\n",
       "    </tr>\n",
       "    <tr>\n",
       "      <th>OTHER PROOF VODKA</th>\n",
       "      <td>3371</td>\n",
       "    </tr>\n",
       "    <tr>\n",
       "      <th>SPEARMINT SCHNAPPS</th>\n",
       "      <td>2867</td>\n",
       "    </tr>\n",
       "    <tr>\n",
       "      <th>IMPORTED DISTILLED SPIRITS SPECIALTY</th>\n",
       "      <td>2715</td>\n",
       "    </tr>\n",
       "    <tr>\n",
       "      <th>ROCK &amp; RYE</th>\n",
       "      <td>2659</td>\n",
       "    </tr>\n",
       "    <tr>\n",
       "      <th>CORN WHISKIES</th>\n",
       "      <td>2639</td>\n",
       "    </tr>\n",
       "    <tr>\n",
       "      <th>WHITE CREME DE MENTHE</th>\n",
       "      <td>2453</td>\n",
       "    </tr>\n",
       "    <tr>\n",
       "      <th>FLAVORED GIN</th>\n",
       "      <td>2157</td>\n",
       "    </tr>\n",
       "    <tr>\n",
       "      <th>AMERICAN DISTILLED SPIRIT SPECIALTY</th>\n",
       "      <td>2128</td>\n",
       "    </tr>\n",
       "    <tr>\n",
       "      <th>CREME DE ALMOND</th>\n",
       "      <td>1615</td>\n",
       "    </tr>\n",
       "    <tr>\n",
       "      <th>LOW PROOF VODKA</th>\n",
       "      <td>1565</td>\n",
       "    </tr>\n",
       "    <tr>\n",
       "      <th>ANISETTE</th>\n",
       "      <td>1433</td>\n",
       "    </tr>\n",
       "    <tr>\n",
       "      <th>AMERICAN DISTILLED SPIRITS SPECIALTY</th>\n",
       "      <td>1321</td>\n",
       "    </tr>\n",
       "    <tr>\n",
       "      <th>DELISTED ITEMS</th>\n",
       "      <td>1001</td>\n",
       "    </tr>\n",
       "    <tr>\n",
       "      <th>IOWA DISTILLERY WHISKIES</th>\n",
       "      <td>907</td>\n",
       "    </tr>\n",
       "    <tr>\n",
       "      <th>MEZCAL</th>\n",
       "      <td>877</td>\n",
       "    </tr>\n",
       "    <tr>\n",
       "      <th>IOWA DISTILLERIES</th>\n",
       "      <td>851</td>\n",
       "    </tr>\n",
       "    <tr>\n",
       "      <th>JAPANESE WHISKY</th>\n",
       "      <td>281</td>\n",
       "    </tr>\n",
       "    <tr>\n",
       "      <th>IMPORTED CORDIALS &amp; LIQUEUR</th>\n",
       "      <td>244</td>\n",
       "    </tr>\n",
       "    <tr>\n",
       "      <th>IMPORTED DISTILLED SPIRIT SPECIALTY</th>\n",
       "      <td>159</td>\n",
       "    </tr>\n",
       "    <tr>\n",
       "      <th>AMARETTO - IMPORTED</th>\n",
       "      <td>101</td>\n",
       "    </tr>\n",
       "    <tr>\n",
       "      <th>HIGH PROOF BEER - AMERICAN</th>\n",
       "      <td>32</td>\n",
       "    </tr>\n",
       "    <tr>\n",
       "      <th>SCHNAPPS - IMPORTED</th>\n",
       "      <td>17</td>\n",
       "    </tr>\n",
       "    <tr>\n",
       "      <th>IMPORTED VODKA - CHERRY</th>\n",
       "      <td>14</td>\n",
       "    </tr>\n",
       "    <tr>\n",
       "      <th>TEMPORARY &amp;  SPECIALTY PACKAGES</th>\n",
       "      <td>12</td>\n",
       "    </tr>\n",
       "    <tr>\n",
       "      <th>AMERICAN GINS</th>\n",
       "      <td>1</td>\n",
       "    </tr>\n",
       "  </tbody>\n",
       "</table>\n",
       "<p>108 rows × 1 columns</p>\n",
       "</div>"
      ],
      "text/plain": [
       "                                      количество вхождений\n",
       "Категория алкоголя                                        \n",
       "VODKA 80 PROOF                                     1255745\n",
       "CANADIAN WHISKIES                                  1199556\n",
       "STRAIGHT BOURBON WHISKIES                           698830\n",
       "SPICED RUM                                          668211\n",
       "BLENDED WHISKIES                                    551093\n",
       "VODKA FLAVORED                                      498464\n",
       "WHISKEY LIQUEUR                                     450834\n",
       "IMPORTED VODKA                                      445845\n",
       "TEQUILA                                             431200\n",
       "PUERTO RICO & VIRGIN ISLANDS RUM                    392776\n",
       "FLAVORED RUM                                        346966\n",
       "TENNESSEE WHISKIES                                  315293\n",
       "AMERICAN DRY GINS                                   314933\n",
       "CREAM LIQUEURS                                      288133\n",
       "AMERICAN COCKTAILS                                  282522\n",
       "IMPORTED VODKA - MISC                               254244\n",
       "SCOTCH WHISKIES                                     246310\n",
       "MISC. IMPORTED CORDIALS & LIQUEURS                  244148\n",
       "AMERICAN GRAPE BRANDIES                             241132\n",
       "AMERICAN VODKAS                                     240821\n",
       "IMPORTED SCHNAPPS                                   210284\n",
       "AMERICAN VODKA                                      162727\n",
       "IMPORTED GRAPE BRANDIES                             153589\n",
       "AMERICAN FLAVORED VODKA                             142984\n",
       "IMPORTED DRY GINS                                   141585\n",
       "MISC. AMERICAN CORDIALS & LIQUEURS                  126538\n",
       "PEPPERMINT SCHNAPPS                                 119254\n",
       "IRISH WHISKIES                                      117525\n",
       "SINGLE MALT SCOTCH                                  105562\n",
       "100 PROOF VODKA                                      98976\n",
       "...                                                    ...\n",
       "HOLIDAY VAP                                           6342\n",
       "NEUTRAL GRAIN SPIRITS                                 6234\n",
       "SPECIAL ORDER ITEMS                                   4999\n",
       "NEUTRAL GRAIN SPIRITS FLAVORED                        4074\n",
       "MISCELLANEOUS  BRANDIES                               4042\n",
       "OTHER PROOF VODKA                                     3371\n",
       "SPEARMINT SCHNAPPS                                    2867\n",
       "IMPORTED DISTILLED SPIRITS SPECIALTY                  2715\n",
       "ROCK & RYE                                            2659\n",
       "CORN WHISKIES                                         2639\n",
       "WHITE CREME DE MENTHE                                 2453\n",
       "FLAVORED GIN                                          2157\n",
       "AMERICAN DISTILLED SPIRIT SPECIALTY                   2128\n",
       "CREME DE ALMOND                                       1615\n",
       "LOW PROOF VODKA                                       1565\n",
       "ANISETTE                                              1433\n",
       "AMERICAN DISTILLED SPIRITS SPECIALTY                  1321\n",
       "DELISTED ITEMS                                        1001\n",
       "IOWA DISTILLERY WHISKIES                               907\n",
       "MEZCAL                                                 877\n",
       "IOWA DISTILLERIES                                      851\n",
       "JAPANESE WHISKY                                        281\n",
       "IMPORTED CORDIALS & LIQUEUR                            244\n",
       "IMPORTED DISTILLED SPIRIT SPECIALTY                    159\n",
       "AMARETTO - IMPORTED                                    101\n",
       "HIGH PROOF BEER - AMERICAN                              32\n",
       "SCHNAPPS - IMPORTED                                     17\n",
       "IMPORTED VODKA - CHERRY                                 14\n",
       "TEMPORARY &  SPECIALTY PACKAGES                         12\n",
       "AMERICAN GINS                                            1\n",
       "\n",
       "[108 rows x 1 columns]"
      ]
     },
     "execution_count": 43,
     "metadata": {},
     "output_type": "execute_result"
    }
   ],
   "source": [
    "cat_df"
   ]
  },
  {
   "cell_type": "code",
   "execution_count": 39,
   "metadata": {
    "ExecuteTime": {
     "end_time": "2018-09-30T07:43:05.772577Z",
     "start_time": "2018-09-30T07:43:05.764804Z"
    },
    "run_control": {
     "frozen": false,
     "read_only": false
    }
   },
   "outputs": [],
   "source": [
    "whisky_cat = ['CANADIAN WHISKIES', 'STRAIGHT BOURBON WHISKIES', 'BLENDED WHISKIES', 'WHISKEY LIQUEUR',\n",
    "              'TENNESSEE WHISKIES', 'SCOTCH WHISKIES', 'IRISH WHISKIES', 'STRAIGHT RYE WHISKIES',\n",
    "              'SINGLE BARREL BOURBON WHISKIES', 'CORN WHISKIES', 'IOWA DISTILLERY WHISKIES', 'JAPANESE WHISKY']"
   ]
  },
  {
   "cell_type": "code",
   "execution_count": 44,
   "metadata": {
    "ExecuteTime": {
     "end_time": "2018-09-30T07:43:41.792137Z",
     "start_time": "2018-09-30T07:43:41.708545Z"
    },
    "run_control": {
     "frozen": false,
     "read_only": false
    }
   },
   "outputs": [
    {
     "data": {
      "text/html": [
       "<div>\n",
       "<table border=\"1\" class=\"dataframe\">\n",
       "  <thead>\n",
       "    <tr style=\"text-align: right;\">\n",
       "      <th></th>\n",
       "      <th>количество вхождений</th>\n",
       "    </tr>\n",
       "    <tr>\n",
       "      <th>Категория алкоголя</th>\n",
       "      <th></th>\n",
       "    </tr>\n",
       "  </thead>\n",
       "  <tbody>\n",
       "    <tr>\n",
       "      <th>CANADIAN WHISKIES</th>\n",
       "      <td>1199556</td>\n",
       "    </tr>\n",
       "    <tr>\n",
       "      <th>STRAIGHT BOURBON WHISKIES</th>\n",
       "      <td>698830</td>\n",
       "    </tr>\n",
       "    <tr>\n",
       "      <th>BLENDED WHISKIES</th>\n",
       "      <td>551093</td>\n",
       "    </tr>\n",
       "    <tr>\n",
       "      <th>WHISKEY LIQUEUR</th>\n",
       "      <td>450834</td>\n",
       "    </tr>\n",
       "    <tr>\n",
       "      <th>TENNESSEE WHISKIES</th>\n",
       "      <td>315293</td>\n",
       "    </tr>\n",
       "    <tr>\n",
       "      <th>SCOTCH WHISKIES</th>\n",
       "      <td>246310</td>\n",
       "    </tr>\n",
       "    <tr>\n",
       "      <th>IRISH WHISKIES</th>\n",
       "      <td>117525</td>\n",
       "    </tr>\n",
       "    <tr>\n",
       "      <th>STRAIGHT RYE WHISKIES</th>\n",
       "      <td>73973</td>\n",
       "    </tr>\n",
       "    <tr>\n",
       "      <th>SINGLE BARREL BOURBON WHISKIES</th>\n",
       "      <td>12878</td>\n",
       "    </tr>\n",
       "    <tr>\n",
       "      <th>CORN WHISKIES</th>\n",
       "      <td>2639</td>\n",
       "    </tr>\n",
       "    <tr>\n",
       "      <th>IOWA DISTILLERY WHISKIES</th>\n",
       "      <td>907</td>\n",
       "    </tr>\n",
       "    <tr>\n",
       "      <th>JAPANESE WHISKY</th>\n",
       "      <td>281</td>\n",
       "    </tr>\n",
       "  </tbody>\n",
       "</table>\n",
       "</div>"
      ],
      "text/plain": [
       "                                количество вхождений\n",
       "Категория алкоголя                                  \n",
       "CANADIAN WHISKIES                            1199556\n",
       "STRAIGHT BOURBON WHISKIES                     698830\n",
       "BLENDED WHISKIES                              551093\n",
       "WHISKEY LIQUEUR                               450834\n",
       "TENNESSEE WHISKIES                            315293\n",
       "SCOTCH WHISKIES                               246310\n",
       "IRISH WHISKIES                                117525\n",
       "STRAIGHT RYE WHISKIES                          73973\n",
       "SINGLE BARREL BOURBON WHISKIES                 12878\n",
       "CORN WHISKIES                                   2639\n",
       "IOWA DISTILLERY WHISKIES                         907\n",
       "JAPANESE WHISKY                                  281"
      ]
     },
     "execution_count": 44,
     "metadata": {},
     "output_type": "execute_result"
    }
   ],
   "source": [
    "cat_df.loc[whisky_cat].sort_values(['количество вхождений'], ascending=False)"
   ]
  },
  {
   "cell_type": "code",
   "execution_count": 45,
   "metadata": {
    "ExecuteTime": {
     "end_time": "2018-09-30T07:43:51.214817Z",
     "start_time": "2018-09-30T07:43:41.794532Z"
    },
    "run_control": {
     "frozen": false,
     "read_only": false
    }
   },
   "outputs": [],
   "source": [
    "dataset = dataset[(dataset.loc[:, 'Category Name'] == 'CANADIAN WHISKIES') |\\\n",
    "                  (dataset.loc[:, 'Category Name'] == 'STRAIGHT BOURBON WHISKIES') |\\\n",
    "                  (dataset.loc[:, 'Category Name'] == 'BLENDED WHISKIES') |\\\n",
    "                  (dataset.loc[:, 'Category Name'] == 'WHISKEY LIQUEUR') |\\\n",
    "                  (dataset.loc[:, 'Category Name'] == 'TENNESSEE WHISKIES') |\\\n",
    "                  (dataset.loc[:, 'Category Name'] == 'SCOTCH WHISKIES') |\\\n",
    "                  (dataset.loc[:, 'Category Name'] == 'IRISH WHISKIES') |\\\n",
    "                  (dataset.loc[:, 'Category Name'] == 'STRAIGHT RYE WHISKIES') |\\\n",
    "                  (dataset.loc[:, 'Category Name'] == 'SINGLE BARREL BOURBON WHISKIES') |\\\n",
    "                  (dataset.loc[:, 'Category Name'] == 'CORN WHISKIES') |\\\n",
    "                  (dataset.loc[:, 'Category Name'] == 'IOWA DISTILLERY WHISKIES') |\\\n",
    "                  (dataset.loc[:, 'Category Name'] == 'JAPANESE WHISKY')]"
   ]
  },
  {
   "cell_type": "code",
   "execution_count": 46,
   "metadata": {
    "ExecuteTime": {
     "end_time": "2018-09-30T07:44:32.675869Z",
     "start_time": "2018-09-30T07:43:51.216359Z"
    },
    "run_control": {
     "frozen": false,
     "read_only": false
    }
   },
   "outputs": [],
   "source": [
    "dataset.to_csv('./Top_Whisky.csv', index=False)"
   ]
  },
  {
   "cell_type": "code",
   "execution_count": 2,
   "metadata": {
    "ExecuteTime": {
     "end_time": "2018-09-30T16:19:40.438511Z",
     "start_time": "2018-09-30T16:19:31.609720Z"
    },
    "run_control": {
     "frozen": false,
     "read_only": false
    }
   },
   "outputs": [
    {
     "data": {
      "text/html": [
       "<div>\n",
       "<table border=\"1\" class=\"dataframe\">\n",
       "  <thead>\n",
       "    <tr style=\"text-align: right;\">\n",
       "      <th></th>\n",
       "      <th>Date</th>\n",
       "      <th>City</th>\n",
       "      <th>County</th>\n",
       "      <th>Category Name</th>\n",
       "      <th>Vendor Name</th>\n",
       "      <th>Item Description</th>\n",
       "      <th>Bottle Volume (ml)</th>\n",
       "      <th>State Bottle Cost</th>\n",
       "      <th>State Bottle Retail</th>\n",
       "      <th>Bottles Sold</th>\n",
       "      <th>Sale (Dollars)</th>\n",
       "      <th>Volume Sold (Liters)</th>\n",
       "      <th>Day of Week</th>\n",
       "      <th>Month</th>\n",
       "      <th>Year</th>\n",
       "      <th>Day of Year</th>\n",
       "    </tr>\n",
       "  </thead>\n",
       "  <tbody>\n",
       "    <tr>\n",
       "      <th>0</th>\n",
       "      <td>2014-02-26</td>\n",
       "      <td>DAVENPORT</td>\n",
       "      <td>SCOTT</td>\n",
       "      <td>IRISH WHISKIES</td>\n",
       "      <td>PROXIMO</td>\n",
       "      <td>BUSHMILLS IRISH WHISKEY</td>\n",
       "      <td>750</td>\n",
       "      <td>13.00</td>\n",
       "      <td>19.50</td>\n",
       "      <td>4</td>\n",
       "      <td>78.00</td>\n",
       "      <td>3.00</td>\n",
       "      <td>2</td>\n",
       "      <td>2</td>\n",
       "      <td>2014</td>\n",
       "      <td>57</td>\n",
       "    </tr>\n",
       "    <tr>\n",
       "      <th>1</th>\n",
       "      <td>2013-11-26</td>\n",
       "      <td>CHARITON</td>\n",
       "      <td>LUCAS</td>\n",
       "      <td>WHISKEY LIQUEUR</td>\n",
       "      <td>CHARLES JACQUIN/INDEPENDENT SPIRITS</td>\n",
       "      <td>SWEET REVENGE</td>\n",
       "      <td>750</td>\n",
       "      <td>10.98</td>\n",
       "      <td>16.47</td>\n",
       "      <td>6</td>\n",
       "      <td>98.82</td>\n",
       "      <td>4.50</td>\n",
       "      <td>1</td>\n",
       "      <td>11</td>\n",
       "      <td>2013</td>\n",
       "      <td>330</td>\n",
       "    </tr>\n",
       "    <tr>\n",
       "      <th>2</th>\n",
       "      <td>2013-04-17</td>\n",
       "      <td>OSKALOOSA</td>\n",
       "      <td>MAHASKA</td>\n",
       "      <td>CANADIAN WHISKIES</td>\n",
       "      <td>HOOD RIVER DISTILLERS INC.</td>\n",
       "      <td>PENDLETON CANADIAN WHISKY</td>\n",
       "      <td>750</td>\n",
       "      <td>12.10</td>\n",
       "      <td>18.65</td>\n",
       "      <td>2</td>\n",
       "      <td>37.30</td>\n",
       "      <td>1.50</td>\n",
       "      <td>2</td>\n",
       "      <td>4</td>\n",
       "      <td>2013</td>\n",
       "      <td>107</td>\n",
       "    </tr>\n",
       "    <tr>\n",
       "      <th>3</th>\n",
       "      <td>2012-05-24</td>\n",
       "      <td>CEDAR RAPIDS</td>\n",
       "      <td>LINN</td>\n",
       "      <td>CANADIAN WHISKIES</td>\n",
       "      <td>DIAGEO AMERICAS</td>\n",
       "      <td>CROWN ROYAL</td>\n",
       "      <td>750</td>\n",
       "      <td>14.50</td>\n",
       "      <td>21.74</td>\n",
       "      <td>1</td>\n",
       "      <td>21.74</td>\n",
       "      <td>0.75</td>\n",
       "      <td>3</td>\n",
       "      <td>5</td>\n",
       "      <td>2012</td>\n",
       "      <td>145</td>\n",
       "    </tr>\n",
       "    <tr>\n",
       "      <th>4</th>\n",
       "      <td>2012-10-18</td>\n",
       "      <td>GRIMES</td>\n",
       "      <td>POLK</td>\n",
       "      <td>BLENDED WHISKIES</td>\n",
       "      <td>LUXCO-ST LOUIS</td>\n",
       "      <td>CALVERT EXTRA BL WHISKEY</td>\n",
       "      <td>1750</td>\n",
       "      <td>11.02</td>\n",
       "      <td>16.53</td>\n",
       "      <td>1</td>\n",
       "      <td>16.53</td>\n",
       "      <td>1.75</td>\n",
       "      <td>3</td>\n",
       "      <td>10</td>\n",
       "      <td>2012</td>\n",
       "      <td>292</td>\n",
       "    </tr>\n",
       "  </tbody>\n",
       "</table>\n",
       "</div>"
      ],
      "text/plain": [
       "         Date          City   County      Category Name  \\\n",
       "0  2014-02-26     DAVENPORT    SCOTT     IRISH WHISKIES   \n",
       "1  2013-11-26      CHARITON    LUCAS    WHISKEY LIQUEUR   \n",
       "2  2013-04-17     OSKALOOSA  MAHASKA  CANADIAN WHISKIES   \n",
       "3  2012-05-24  CEDAR RAPIDS     LINN  CANADIAN WHISKIES   \n",
       "4  2012-10-18        GRIMES     POLK   BLENDED WHISKIES   \n",
       "\n",
       "                           Vendor Name           Item Description  \\\n",
       "0                              PROXIMO    BUSHMILLS IRISH WHISKEY   \n",
       "1  CHARLES JACQUIN/INDEPENDENT SPIRITS              SWEET REVENGE   \n",
       "2           HOOD RIVER DISTILLERS INC.  PENDLETON CANADIAN WHISKY   \n",
       "3                      DIAGEO AMERICAS                CROWN ROYAL   \n",
       "4                       LUXCO-ST LOUIS   CALVERT EXTRA BL WHISKEY   \n",
       "\n",
       "   Bottle Volume (ml)  State Bottle Cost  State Bottle Retail  Bottles Sold  \\\n",
       "0                 750              13.00                19.50             4   \n",
       "1                 750              10.98                16.47             6   \n",
       "2                 750              12.10                18.65             2   \n",
       "3                 750              14.50                21.74             1   \n",
       "4                1750              11.02                16.53             1   \n",
       "\n",
       "   Sale (Dollars)  Volume Sold (Liters)  Day of Week  Month  Year  Day of Year  \n",
       "0           78.00                  3.00            2      2  2014           57  \n",
       "1           98.82                  4.50            1     11  2013          330  \n",
       "2           37.30                  1.50            2      4  2013          107  \n",
       "3           21.74                  0.75            3      5  2012          145  \n",
       "4           16.53                  1.75            3     10  2012          292  "
      ]
     },
     "execution_count": 2,
     "metadata": {},
     "output_type": "execute_result"
    }
   ],
   "source": [
    "dataset = pd.read_csv('./Top_Whisky.csv')\n",
    "dataset.head()"
   ]
  },
  {
   "cell_type": "code",
   "execution_count": 48,
   "metadata": {
    "ExecuteTime": {
     "end_time": "2018-09-30T07:44:39.773087Z",
     "start_time": "2018-09-30T07:44:39.769407Z"
    },
    "run_control": {
     "frozen": false,
     "read_only": false
    }
   },
   "outputs": [
    {
     "data": {
      "text/plain": [
       "(3670119, 16)"
      ]
     },
     "execution_count": 48,
     "metadata": {},
     "output_type": "execute_result"
    }
   ],
   "source": [
    "dataset.shape"
   ]
  },
  {
   "cell_type": "code",
   "execution_count": 14,
   "metadata": {
    "ExecuteTime": {
     "end_time": "2018-09-30T16:51:47.707969Z",
     "start_time": "2018-09-30T16:51:45.479892Z"
    },
    "run_control": {
     "frozen": false,
     "read_only": false
    }
   },
   "outputs": [],
   "source": [
    "total_year_sales = pd.DataFrame(dataset.loc[:, ['Item Description', 'State Bottle Retail', 'State Bottle Cost',\\\n",
    "                   'Year']].groupby(['Year', 'Item Description']).apply(lambda x:\\\n",
    "                   ((x['State Bottle Retail'] - x['State Bottle Cost']) / x['State Bottle Cost']).mean()))"
   ]
  },
  {
   "cell_type": "code",
   "execution_count": 23,
   "metadata": {
    "ExecuteTime": {
     "end_time": "2018-09-30T16:55:38.707470Z",
     "start_time": "2018-09-30T16:55:38.688436Z"
    },
    "run_control": {
     "frozen": false,
     "read_only": false
    }
   },
   "outputs": [
    {
     "data": {
      "text/html": [
       "<div>\n",
       "<table border=\"1\" class=\"dataframe\">\n",
       "  <thead>\n",
       "    <tr style=\"text-align: right;\">\n",
       "      <th></th>\n",
       "      <th>0</th>\n",
       "    </tr>\n",
       "    <tr>\n",
       "      <th>Item Description</th>\n",
       "      <th></th>\n",
       "    </tr>\n",
       "  </thead>\n",
       "  <tbody>\n",
       "    <tr>\n",
       "      <th>WILD TURKEY 81</th>\n",
       "      <td>0.542376</td>\n",
       "    </tr>\n",
       "    <tr>\n",
       "      <th>BIRD DOG BLACKBERRY WHISKEY</th>\n",
       "      <td>0.541094</td>\n",
       "    </tr>\n",
       "    <tr>\n",
       "      <th>WHITETAIL CARAMEL FLAVORED WHISKEY</th>\n",
       "      <td>0.536331</td>\n",
       "    </tr>\n",
       "    <tr>\n",
       "      <th>WILD TURKEY AMERICAN HONEY</th>\n",
       "      <td>0.531448</td>\n",
       "    </tr>\n",
       "    <tr>\n",
       "      <th>EVAN WILLIAMS YR STR BOURBON</th>\n",
       "      <td>0.528354</td>\n",
       "    </tr>\n",
       "    <tr>\n",
       "      <th>SOUTHERN HOST WHISKEY LIQUEUR</th>\n",
       "      <td>0.528280</td>\n",
       "    </tr>\n",
       "    <tr>\n",
       "      <th>EARLY TIMES 36 MO KY STR BOURBON PET</th>\n",
       "      <td>0.527965</td>\n",
       "    </tr>\n",
       "    <tr>\n",
       "      <th>EVAN WILLIAMS STR BOURBON</th>\n",
       "      <td>0.527902</td>\n",
       "    </tr>\n",
       "    <tr>\n",
       "      <th>TULLAMORE DEW IRISH WHISKY</th>\n",
       "      <td>0.526805</td>\n",
       "    </tr>\n",
       "    <tr>\n",
       "      <th>EARLY TIMES 36 MO KY STR BOURBON</th>\n",
       "      <td>0.525180</td>\n",
       "    </tr>\n",
       "  </tbody>\n",
       "</table>\n",
       "</div>"
      ],
      "text/plain": [
       "                                             0\n",
       "Item Description                              \n",
       "WILD TURKEY 81                        0.542376\n",
       "BIRD DOG BLACKBERRY WHISKEY           0.541094\n",
       "WHITETAIL CARAMEL FLAVORED WHISKEY    0.536331\n",
       "WILD TURKEY AMERICAN HONEY            0.531448\n",
       "EVAN WILLIAMS YR STR BOURBON          0.528354\n",
       "SOUTHERN HOST WHISKEY LIQUEUR         0.528280\n",
       "EARLY TIMES 36 MO KY STR BOURBON PET  0.527965\n",
       "EVAN WILLIAMS STR BOURBON             0.527902\n",
       "TULLAMORE DEW IRISH WHISKY            0.526805\n",
       "EARLY TIMES 36 MO KY STR BOURBON      0.525180"
      ]
     },
     "execution_count": 23,
     "metadata": {},
     "output_type": "execute_result"
    }
   ],
   "source": [
    "total_year_sales.loc[(2012, slice(None))].sort_values(by=0, ascending=False).head(10)"
   ]
  },
  {
   "cell_type": "code",
   "execution_count": 24,
   "metadata": {
    "ExecuteTime": {
     "end_time": "2018-09-30T16:56:18.970675Z",
     "start_time": "2018-09-30T16:56:18.954482Z"
    },
    "run_control": {
     "frozen": false,
     "read_only": false
    }
   },
   "outputs": [
    {
     "data": {
      "text/html": [
       "<div>\n",
       "<table border=\"1\" class=\"dataframe\">\n",
       "  <thead>\n",
       "    <tr style=\"text-align: right;\">\n",
       "      <th></th>\n",
       "      <th>0</th>\n",
       "    </tr>\n",
       "    <tr>\n",
       "      <th>Item Description</th>\n",
       "      <th></th>\n",
       "    </tr>\n",
       "  </thead>\n",
       "  <tbody>\n",
       "    <tr>\n",
       "      <th>BIRD DOG MAPLE</th>\n",
       "      <td>0.596698</td>\n",
       "    </tr>\n",
       "    <tr>\n",
       "      <th>WHITETAIL CARAMEL FLAVORED WHISKEY</th>\n",
       "      <td>0.576168</td>\n",
       "    </tr>\n",
       "    <tr>\n",
       "      <th>BIRD DOG BLACKBERRY WHISKEY</th>\n",
       "      <td>0.565420</td>\n",
       "    </tr>\n",
       "    <tr>\n",
       "      <th>BIRD DOG PEACH FLAVORED WHISKEY</th>\n",
       "      <td>0.564419</td>\n",
       "    </tr>\n",
       "    <tr>\n",
       "      <th>TRIPLE CROWN BLENDED WHISKEY</th>\n",
       "      <td>0.554146</td>\n",
       "    </tr>\n",
       "    <tr>\n",
       "      <th>LEXINGTON</th>\n",
       "      <td>0.545033</td>\n",
       "    </tr>\n",
       "    <tr>\n",
       "      <th>FORTY CREEK</th>\n",
       "      <td>0.538255</td>\n",
       "    </tr>\n",
       "    <tr>\n",
       "      <th>SINFIRE</th>\n",
       "      <td>0.535210</td>\n",
       "    </tr>\n",
       "    <tr>\n",
       "      <th>WISER'S RYE</th>\n",
       "      <td>0.533938</td>\n",
       "    </tr>\n",
       "    <tr>\n",
       "      <th>EVAN WILLIAMS CHERRY RESERVE</th>\n",
       "      <td>0.528818</td>\n",
       "    </tr>\n",
       "  </tbody>\n",
       "</table>\n",
       "</div>"
      ],
      "text/plain": [
       "                                           0\n",
       "Item Description                            \n",
       "BIRD DOG MAPLE                      0.596698\n",
       "WHITETAIL CARAMEL FLAVORED WHISKEY  0.576168\n",
       "BIRD DOG BLACKBERRY WHISKEY         0.565420\n",
       "BIRD DOG PEACH FLAVORED WHISKEY     0.564419\n",
       "TRIPLE CROWN BLENDED WHISKEY        0.554146\n",
       "LEXINGTON                           0.545033\n",
       "FORTY CREEK                         0.538255\n",
       "SINFIRE                             0.535210\n",
       "WISER'S RYE                         0.533938\n",
       "EVAN WILLIAMS CHERRY RESERVE        0.528818"
      ]
     },
     "execution_count": 24,
     "metadata": {},
     "output_type": "execute_result"
    }
   ],
   "source": [
    "total_year_sales.loc[(2013, slice(None))].sort_values(by=0, ascending=False).head(10)"
   ]
  },
  {
   "cell_type": "code",
   "execution_count": 25,
   "metadata": {
    "ExecuteTime": {
     "end_time": "2018-09-30T16:56:44.661275Z",
     "start_time": "2018-09-30T16:56:44.643837Z"
    },
    "run_control": {
     "frozen": false,
     "read_only": false
    }
   },
   "outputs": [
    {
     "data": {
      "text/html": [
       "<div>\n",
       "<table border=\"1\" class=\"dataframe\">\n",
       "  <thead>\n",
       "    <tr style=\"text-align: right;\">\n",
       "      <th></th>\n",
       "      <th>0</th>\n",
       "    </tr>\n",
       "    <tr>\n",
       "      <th>Item Description</th>\n",
       "      <th></th>\n",
       "    </tr>\n",
       "  </thead>\n",
       "  <tbody>\n",
       "    <tr>\n",
       "      <th>COUNTRY GAL</th>\n",
       "      <td>0.671977</td>\n",
       "    </tr>\n",
       "    <tr>\n",
       "      <th>PRAIRIE FIRE</th>\n",
       "      <td>0.671862</td>\n",
       "    </tr>\n",
       "    <tr>\n",
       "      <th>TRIPLE CROWN BLENDED WHISKEY</th>\n",
       "      <td>0.589239</td>\n",
       "    </tr>\n",
       "    <tr>\n",
       "      <th>PADDY BEE STING</th>\n",
       "      <td>0.535122</td>\n",
       "    </tr>\n",
       "    <tr>\n",
       "      <th>SINFIRE</th>\n",
       "      <td>0.530416</td>\n",
       "    </tr>\n",
       "    <tr>\n",
       "      <th>PADDY DEVIL'S APPLE</th>\n",
       "      <td>0.528836</td>\n",
       "    </tr>\n",
       "    <tr>\n",
       "      <th>DEWARS 12YR</th>\n",
       "      <td>0.524751</td>\n",
       "    </tr>\n",
       "    <tr>\n",
       "      <th>DEWARS HIGHLANDER HONEY</th>\n",
       "      <td>0.524496</td>\n",
       "    </tr>\n",
       "    <tr>\n",
       "      <th>EVAN WILLIAMS BLACK LABEL TRAVELER</th>\n",
       "      <td>0.524321</td>\n",
       "    </tr>\n",
       "    <tr>\n",
       "      <th>PENDLETON CANADIAN WHISKY</th>\n",
       "      <td>0.524229</td>\n",
       "    </tr>\n",
       "  </tbody>\n",
       "</table>\n",
       "</div>"
      ],
      "text/plain": [
       "                                           0\n",
       "Item Description                            \n",
       "COUNTRY GAL                         0.671977\n",
       "PRAIRIE FIRE                        0.671862\n",
       "TRIPLE CROWN BLENDED WHISKEY        0.589239\n",
       "PADDY BEE STING                     0.535122\n",
       "SINFIRE                             0.530416\n",
       "PADDY DEVIL'S APPLE                 0.528836\n",
       "DEWARS 12YR                         0.524751\n",
       "DEWARS HIGHLANDER HONEY             0.524496\n",
       "EVAN WILLIAMS BLACK LABEL TRAVELER  0.524321\n",
       "PENDLETON CANADIAN WHISKY           0.524229"
      ]
     },
     "execution_count": 25,
     "metadata": {},
     "output_type": "execute_result"
    }
   ],
   "source": [
    "total_year_sales.loc[(2014, slice(None))].sort_values(by=0, ascending=False).head(10)"
   ]
  },
  {
   "cell_type": "code",
   "execution_count": 26,
   "metadata": {
    "ExecuteTime": {
     "end_time": "2018-09-30T16:57:03.380332Z",
     "start_time": "2018-09-30T16:57:03.365164Z"
    },
    "run_control": {
     "frozen": false,
     "read_only": false
    }
   },
   "outputs": [
    {
     "data": {
      "text/html": [
       "<div>\n",
       "<table border=\"1\" class=\"dataframe\">\n",
       "  <thead>\n",
       "    <tr style=\"text-align: right;\">\n",
       "      <th></th>\n",
       "      <th>0</th>\n",
       "    </tr>\n",
       "    <tr>\n",
       "      <th>Item Description</th>\n",
       "      <th></th>\n",
       "    </tr>\n",
       "  </thead>\n",
       "  <tbody>\n",
       "    <tr>\n",
       "      <th>RUSSELL'S RESERVE RYE 6YR</th>\n",
       "      <td>0.556664</td>\n",
       "    </tr>\n",
       "    <tr>\n",
       "      <th>RUSSELL'S RESERVE 10YR</th>\n",
       "      <td>0.551376</td>\n",
       "    </tr>\n",
       "    <tr>\n",
       "      <th>FORTY CREEK COOPER POT</th>\n",
       "      <td>0.533532</td>\n",
       "    </tr>\n",
       "    <tr>\n",
       "      <th>FORTY CREEK</th>\n",
       "      <td>0.531788</td>\n",
       "    </tr>\n",
       "    <tr>\n",
       "      <th>PENDLETON CANADIAN WHISKY</th>\n",
       "      <td>0.528446</td>\n",
       "    </tr>\n",
       "    <tr>\n",
       "      <th>EVAN WILLIAMS CHERRY RESERVE</th>\n",
       "      <td>0.526446</td>\n",
       "    </tr>\n",
       "    <tr>\n",
       "      <th>EVAN WILLIAMS YR STR BOURBON</th>\n",
       "      <td>0.524408</td>\n",
       "    </tr>\n",
       "    <tr>\n",
       "      <th>CANADIAN LTD WHISKY CONVENIENCE PACK</th>\n",
       "      <td>0.522736</td>\n",
       "    </tr>\n",
       "    <tr>\n",
       "      <th>SOUTHERN HOST WHISKEY LIQUEUR</th>\n",
       "      <td>0.522693</td>\n",
       "    </tr>\n",
       "    <tr>\n",
       "      <th>EVAN WILLIAMS STR BOURBON</th>\n",
       "      <td>0.522095</td>\n",
       "    </tr>\n",
       "  </tbody>\n",
       "</table>\n",
       "</div>"
      ],
      "text/plain": [
       "                                             0\n",
       "Item Description                              \n",
       "RUSSELL'S RESERVE RYE 6YR             0.556664\n",
       "RUSSELL'S RESERVE 10YR                0.551376\n",
       "FORTY CREEK COOPER POT                0.533532\n",
       "FORTY CREEK                           0.531788\n",
       "PENDLETON CANADIAN WHISKY             0.528446\n",
       "EVAN WILLIAMS CHERRY RESERVE          0.526446\n",
       "EVAN WILLIAMS YR STR BOURBON          0.524408\n",
       "CANADIAN LTD WHISKY CONVENIENCE PACK  0.522736\n",
       "SOUTHERN HOST WHISKEY LIQUEUR         0.522693\n",
       "EVAN WILLIAMS STR BOURBON             0.522095"
      ]
     },
     "execution_count": 26,
     "metadata": {},
     "output_type": "execute_result"
    }
   ],
   "source": [
    "total_year_sales.loc[(2015, slice(None))].sort_values(by=0, ascending=False).head(10)"
   ]
  },
  {
   "cell_type": "code",
   "execution_count": 105,
   "metadata": {
    "ExecuteTime": {
     "end_time": "2018-09-30T18:04:16.085277Z",
     "start_time": "2018-09-30T18:04:15.747670Z"
    },
    "run_control": {
     "frozen": false,
     "read_only": false
    }
   },
   "outputs": [
    {
     "data": {
      "image/png": "[encoded data removed]",
      "text/plain": [
       "<matplotlib.figure.Figure at 0x7fb01cd8f828>"
      ]
     },
     "metadata": {},
     "output_type": "display_data"
    }
   ],
   "source": [
    "figsize(10, 8)\n",
    "nd = np.arange(8)\n",
    "width = 0.8\n",
    "fig, ax = plt.subplots()\n",
    "p1 = ax.barh(np.array([0, 1, 3, 6, 7]),\\\n",
    "            np.array([float(total_year_sales.loc[(2012, 'WILD TURKEY 81'), :]),\n",
    "                      float(total_year_sales.loc[(2012, 'BIRD DOG BLACKBERRY WHISKEY'), :]),\n",
    "                      float(total_year_sales.loc[(2012, 'WHITETAIL CARAMEL FLAVORED WHISKEY'), :]),\n",
    "                      float(total_year_sales.loc[(2012, \"RUSSELL'S RESERVE RYE 6YR\"), :]),\n",
    "                      float(total_year_sales.loc[(2012, \"RUSSELL'S RESERVE 10YR\"), :])]),\\\n",
    "            width / 2, color='black')\n",
    "p2 = ax.barh(np.array([0, 1, 2, 3, 4, 5, 6, 7]) + width / 8,\\\n",
    "            np.array([float(total_year_sales.loc[(2013, 'WILD TURKEY 81'), :]),\n",
    "                      float(total_year_sales.loc[(2013, 'BIRD DOG BLACKBERRY WHISKEY'), :]),\n",
    "                      float(total_year_sales.loc[(2013, 'BIRD DOG MAPLE'), :]),\n",
    "                      float(total_year_sales.loc[(2013, 'WHITETAIL CARAMEL FLAVORED WHISKEY'), :]),\n",
    "                      float(total_year_sales.loc[(2013, 'COUNTRY GAL'), :]),\n",
    "                      float(total_year_sales.loc[(2013, 'PRAIRIE FIRE'), :]),\n",
    "                      float(total_year_sales.loc[(2013, \"RUSSELL'S RESERVE RYE 6YR\"), :]),\n",
    "                      float(total_year_sales.loc[(2013, \"RUSSELL'S RESERVE 10YR\"), :])]), width / 2,\\\n",
    "            color='blue')\n",
    "p3 = ax.barh(np.array([0, 1, 2, 3, 4, 5, 6, 7]) + width / 4,\\\n",
    "            np.array([float(total_year_sales.loc[(2014, 'WILD TURKEY 81'), :]),\n",
    "                      float(total_year_sales.loc[(2014, 'BIRD DOG BLACKBERRY WHISKEY'), :]),\n",
    "                      float(total_year_sales.loc[(2014, 'BIRD DOG MAPLE'), :]),\n",
    "                      float(total_year_sales.loc[(2014, 'WHITETAIL CARAMEL FLAVORED WHISKEY'), :]),\n",
    "                      float(total_year_sales.loc[(2014, 'COUNTRY GAL'), :]),\n",
    "                      float(total_year_sales.loc[(2014, 'PRAIRIE FIRE'), :]),\n",
    "                      float(total_year_sales.loc[(2014, \"RUSSELL'S RESERVE RYE 6YR\"), :]),\n",
    "                      float(total_year_sales.loc[(2014, \"RUSSELL'S RESERVE 10YR\"), :])]),\\\n",
    "            width / 2, color='cyan')\n",
    "p4 = ax.barh(np.array([0, 1, 2, 3, 4, 5, 6, 7]) + 3 * width / 8,\n",
    "            np.array([float(total_year_sales.loc[(2015, 'WILD TURKEY 81'), :]),\n",
    "                      float(total_year_sales.loc[(2015, 'BIRD DOG BLACKBERRY WHISKEY'), :]),\n",
    "                      float(total_year_sales.loc[(2015, 'BIRD DOG MAPLE'), :]),\n",
    "                      float(total_year_sales.loc[(2015, 'WHITETAIL CARAMEL FLAVORED WHISKEY'), :]),\n",
    "                      float(total_year_sales.loc[(2015, 'COUNTRY GAL'), :]),\n",
    "                      float(total_year_sales.loc[(2015, 'PRAIRIE FIRE'), :]),\n",
    "                      float(total_year_sales.loc[(2015, \"RUSSELL'S RESERVE RYE 6YR\"), :]),\n",
    "                      float(total_year_sales.loc[(2015, \"RUSSELL'S RESERVE 10YR\"), :])]),\\\n",
    "            width / 2, color='red')\n",
    "plt.yticks(nd + width / 4, ('WILD TURKEY 81', 'BIRD DOG BLACKBERRY WHISKEY', 'BIRD DOG MAPLE',\n",
    "                            'WHITETAIL CARAMEL FLAVORED WHISKEY', 'COUNTRY GAL', 'PRAIRIE FIRE',\n",
    "                            \"RUSSELL'S RESERVE RYE 6YR\", \"RUSSELL'S RESERVE 10YR\"), fontsize=10)\n",
    "ax.legend((p1[0], p2[0], p3[0], p4[0]), ('2012 год', '2013 год', '2014 год', '2015 год'))\n",
    "plt.ylim(-1, 8)\n",
    "#plt.xticks(rotation=60)\n",
    "plt.ylabel('марка', fontsize=14)\n",
    "plt.xlabel('относительная разница', fontsize=14)\n",
    "plt.title('Выручка с продажи одной бутылки', fontsize=16)\n",
    "plt.show()"
   ]
  },
  {
   "cell_type": "code",
   "execution_count": 108,
   "metadata": {
    "ExecuteTime": {
     "end_time": "2018-09-30T18:05:15.758804Z",
     "start_time": "2018-09-30T18:05:13.393160Z"
    },
    "run_control": {
     "frozen": false,
     "read_only": false
    }
   },
   "outputs": [],
   "source": [
    "total_year_sales = pd.DataFrame(dataset.loc[:, ['Item Description', 'State Bottle Retail', 'State Bottle Cost',\\\n",
    "                   'Year', 'Bottles Sold']].groupby(['Year', 'Item Description']).apply(lambda x:\\\n",
    "                   ((x['State Bottle Retail'] - x['State Bottle Cost']) * x['Bottles Sold']).sum()))"
   ]
  },
  {
   "cell_type": "code",
   "execution_count": 110,
   "metadata": {
    "ExecuteTime": {
     "end_time": "2018-09-30T18:06:21.712299Z",
     "start_time": "2018-09-30T18:06:21.698134Z"
    },
    "run_control": {
     "frozen": false,
     "read_only": false
    }
   },
   "outputs": [
    {
     "data": {
      "text/html": [
       "<div>\n",
       "<table border=\"1\" class=\"dataframe\">\n",
       "  <thead>\n",
       "    <tr style=\"text-align: right;\">\n",
       "      <th></th>\n",
       "      <th></th>\n",
       "      <th>0</th>\n",
       "    </tr>\n",
       "    <tr>\n",
       "      <th>Year</th>\n",
       "      <th>Item Description</th>\n",
       "      <th></th>\n",
       "    </tr>\n",
       "  </thead>\n",
       "  <tbody>\n",
       "    <tr>\n",
       "      <th rowspan=\"10\" valign=\"top\">2012</th>\n",
       "      <th>BLACK VELVET</th>\n",
       "      <td>3600626.05</td>\n",
       "    </tr>\n",
       "    <tr>\n",
       "      <th>JACK DANIELS OLD #7 BLACK LBL</th>\n",
       "      <td>2965255.87</td>\n",
       "    </tr>\n",
       "    <tr>\n",
       "      <th>CROWN ROYAL CANADIAN WHISKY</th>\n",
       "      <td>2151714.07</td>\n",
       "    </tr>\n",
       "    <tr>\n",
       "      <th>TEMPLETON RYE</th>\n",
       "      <td>1691732.65</td>\n",
       "    </tr>\n",
       "    <tr>\n",
       "      <th>JIM BEAM</th>\n",
       "      <td>1080870.42</td>\n",
       "    </tr>\n",
       "    <tr>\n",
       "      <th>SEAGRAMS 7 CROWN BL WHISKEY</th>\n",
       "      <td>1006605.23</td>\n",
       "    </tr>\n",
       "    <tr>\n",
       "      <th>CROWN ROYAL</th>\n",
       "      <td>919817.00</td>\n",
       "    </tr>\n",
       "    <tr>\n",
       "      <th>SOUTHERN COMFORT</th>\n",
       "      <td>839871.93</td>\n",
       "    </tr>\n",
       "    <tr>\n",
       "      <th>FIREBALL CINNAMON WHISKEY</th>\n",
       "      <td>781484.61</td>\n",
       "    </tr>\n",
       "    <tr>\n",
       "      <th>JAMESON</th>\n",
       "      <td>754131.83</td>\n",
       "    </tr>\n",
       "  </tbody>\n",
       "</table>\n",
       "</div>"
      ],
      "text/plain": [
       "                                             0\n",
       "Year Item Description                         \n",
       "2012 BLACK VELVET                   3600626.05\n",
       "     JACK DANIELS OLD #7 BLACK LBL  2965255.87\n",
       "     CROWN ROYAL CANADIAN WHISKY    2151714.07\n",
       "     TEMPLETON RYE                  1691732.65\n",
       "     JIM BEAM                       1080870.42\n",
       "     SEAGRAMS 7 CROWN BL WHISKEY    1006605.23\n",
       "     CROWN ROYAL                     919817.00\n",
       "     SOUTHERN COMFORT                839871.93\n",
       "     FIREBALL CINNAMON WHISKEY       781484.61\n",
       "     JAMESON                         754131.83"
      ]
     },
     "execution_count": 110,
     "metadata": {},
     "output_type": "execute_result"
    }
   ],
   "source": [
    "total_year_sales.loc[(2012, slice(None)), :].sort_values(by=0, ascending=False).head(10).index"
   ]
  },
  {
   "cell_type": "code",
   "execution_count": 111,
   "metadata": {
    "ExecuteTime": {
     "end_time": "2018-09-30T18:06:45.277764Z",
     "start_time": "2018-09-30T18:06:45.262925Z"
    },
    "run_control": {
     "frozen": false,
     "read_only": false
    }
   },
   "outputs": [
    {
     "data": {
      "text/html": [
       "<div>\n",
       "<table border=\"1\" class=\"dataframe\">\n",
       "  <thead>\n",
       "    <tr style=\"text-align: right;\">\n",
       "      <th></th>\n",
       "      <th></th>\n",
       "      <th>0</th>\n",
       "    </tr>\n",
       "    <tr>\n",
       "      <th>Year</th>\n",
       "      <th>Item Description</th>\n",
       "      <th></th>\n",
       "    </tr>\n",
       "  </thead>\n",
       "  <tbody>\n",
       "    <tr>\n",
       "      <th rowspan=\"10\" valign=\"top\">2013</th>\n",
       "      <th>BLACK VELVET</th>\n",
       "      <td>3787614.41</td>\n",
       "    </tr>\n",
       "    <tr>\n",
       "      <th>JACK DANIELS OLD #7 BLACK LBL</th>\n",
       "      <td>3120613.70</td>\n",
       "    </tr>\n",
       "    <tr>\n",
       "      <th>CROWN ROYAL CANADIAN WHISKY</th>\n",
       "      <td>2209070.31</td>\n",
       "    </tr>\n",
       "    <tr>\n",
       "      <th>FIREBALL CINNAMON WHISKEY</th>\n",
       "      <td>1546129.81</td>\n",
       "    </tr>\n",
       "    <tr>\n",
       "      <th>JIM BEAM</th>\n",
       "      <td>1122501.30</td>\n",
       "    </tr>\n",
       "    <tr>\n",
       "      <th>CROWN ROYAL</th>\n",
       "      <td>1008387.50</td>\n",
       "    </tr>\n",
       "    <tr>\n",
       "      <th>SEAGRAMS 7 CROWN BL WHISKEY</th>\n",
       "      <td>973033.46</td>\n",
       "    </tr>\n",
       "    <tr>\n",
       "      <th>JAMESON</th>\n",
       "      <td>890117.25</td>\n",
       "    </tr>\n",
       "    <tr>\n",
       "      <th>TEMPLETON RYE</th>\n",
       "      <td>843948.70</td>\n",
       "    </tr>\n",
       "    <tr>\n",
       "      <th>SOUTHERN COMFORT</th>\n",
       "      <td>822953.81</td>\n",
       "    </tr>\n",
       "  </tbody>\n",
       "</table>\n",
       "</div>"
      ],
      "text/plain": [
       "                                             0\n",
       "Year Item Description                         \n",
       "2013 BLACK VELVET                   3787614.41\n",
       "     JACK DANIELS OLD #7 BLACK LBL  3120613.70\n",
       "     CROWN ROYAL CANADIAN WHISKY    2209070.31\n",
       "     FIREBALL CINNAMON WHISKEY      1546129.81\n",
       "     JIM BEAM                       1122501.30\n",
       "     CROWN ROYAL                    1008387.50\n",
       "     SEAGRAMS 7 CROWN BL WHISKEY     973033.46\n",
       "     JAMESON                         890117.25\n",
       "     TEMPLETON RYE                   843948.70\n",
       "     SOUTHERN COMFORT                822953.81"
      ]
     },
     "execution_count": 111,
     "metadata": {},
     "output_type": "execute_result"
    }
   ],
   "source": [
    "total_year_sales.loc[(2013, slice(None)), :].sort_values(by=0, ascending=False).head(10)"
   ]
  },
  {
   "cell_type": "code",
   "execution_count": 112,
   "metadata": {
    "ExecuteTime": {
     "end_time": "2018-09-30T18:06:49.764177Z",
     "start_time": "2018-09-30T18:06:49.747694Z"
    },
    "run_control": {
     "frozen": false,
     "read_only": false
    }
   },
   "outputs": [
    {
     "data": {
      "text/html": [
       "<div>\n",
       "<table border=\"1\" class=\"dataframe\">\n",
       "  <thead>\n",
       "    <tr style=\"text-align: right;\">\n",
       "      <th></th>\n",
       "      <th></th>\n",
       "      <th>0</th>\n",
       "    </tr>\n",
       "    <tr>\n",
       "      <th>Year</th>\n",
       "      <th>Item Description</th>\n",
       "      <th></th>\n",
       "    </tr>\n",
       "  </thead>\n",
       "  <tbody>\n",
       "    <tr>\n",
       "      <th rowspan=\"10\" valign=\"top\">2014</th>\n",
       "      <th>BLACK VELVET</th>\n",
       "      <td>3986923.94</td>\n",
       "    </tr>\n",
       "    <tr>\n",
       "      <th>JACK DANIELS OLD #7 BLACK LBL</th>\n",
       "      <td>3225542.14</td>\n",
       "    </tr>\n",
       "    <tr>\n",
       "      <th>FIREBALL CINNAMON WHISKEY</th>\n",
       "      <td>2499801.00</td>\n",
       "    </tr>\n",
       "    <tr>\n",
       "      <th>CROWN ROYAL CANADIAN WHISKY</th>\n",
       "      <td>2233079.07</td>\n",
       "    </tr>\n",
       "    <tr>\n",
       "      <th>JIM BEAM</th>\n",
       "      <td>1175621.65</td>\n",
       "    </tr>\n",
       "    <tr>\n",
       "      <th>CROWN ROYAL</th>\n",
       "      <td>1033026.90</td>\n",
       "    </tr>\n",
       "    <tr>\n",
       "      <th>JAMESON</th>\n",
       "      <td>1023902.54</td>\n",
       "    </tr>\n",
       "    <tr>\n",
       "      <th>SEAGRAMS 7 CROWN BL WHISKEY</th>\n",
       "      <td>992141.91</td>\n",
       "    </tr>\n",
       "    <tr>\n",
       "      <th>SOUTHERN COMFORT</th>\n",
       "      <td>810600.66</td>\n",
       "    </tr>\n",
       "    <tr>\n",
       "      <th>TEMPLETON RYE</th>\n",
       "      <td>736814.80</td>\n",
       "    </tr>\n",
       "  </tbody>\n",
       "</table>\n",
       "</div>"
      ],
      "text/plain": [
       "                                             0\n",
       "Year Item Description                         \n",
       "2014 BLACK VELVET                   3986923.94\n",
       "     JACK DANIELS OLD #7 BLACK LBL  3225542.14\n",
       "     FIREBALL CINNAMON WHISKEY      2499801.00\n",
       "     CROWN ROYAL CANADIAN WHISKY    2233079.07\n",
       "     JIM BEAM                       1175621.65\n",
       "     CROWN ROYAL                    1033026.90\n",
       "     JAMESON                        1023902.54\n",
       "     SEAGRAMS 7 CROWN BL WHISKEY     992141.91\n",
       "     SOUTHERN COMFORT                810600.66\n",
       "     TEMPLETON RYE                   736814.80"
      ]
     },
     "execution_count": 112,
     "metadata": {},
     "output_type": "execute_result"
    }
   ],
   "source": [
    "total_year_sales.loc[(2014, slice(None)), :].sort_values(by=0, ascending=False).head(10)"
   ]
  },
  {
   "cell_type": "code",
   "execution_count": 113,
   "metadata": {
    "ExecuteTime": {
     "end_time": "2018-09-30T18:06:56.333545Z",
     "start_time": "2018-09-30T18:06:56.320912Z"
    },
    "run_control": {
     "frozen": false,
     "read_only": false
    }
   },
   "outputs": [
    {
     "data": {
      "text/html": [
       "<div>\n",
       "<table border=\"1\" class=\"dataframe\">\n",
       "  <thead>\n",
       "    <tr style=\"text-align: right;\">\n",
       "      <th></th>\n",
       "      <th></th>\n",
       "      <th>0</th>\n",
       "    </tr>\n",
       "    <tr>\n",
       "      <th>Year</th>\n",
       "      <th>Item Description</th>\n",
       "      <th></th>\n",
       "    </tr>\n",
       "  </thead>\n",
       "  <tbody>\n",
       "    <tr>\n",
       "      <th rowspan=\"10\" valign=\"top\">2015</th>\n",
       "      <th>BLACK VELVET</th>\n",
       "      <td>4134233.75</td>\n",
       "    </tr>\n",
       "    <tr>\n",
       "      <th>JACK DANIELS OLD #7 BLACK LBL</th>\n",
       "      <td>3331286.69</td>\n",
       "    </tr>\n",
       "    <tr>\n",
       "      <th>FIREBALL CINNAMON WHISKEY</th>\n",
       "      <td>2501777.81</td>\n",
       "    </tr>\n",
       "    <tr>\n",
       "      <th>CROWN ROYAL CANADIAN WHISKY</th>\n",
       "      <td>2293593.74</td>\n",
       "    </tr>\n",
       "    <tr>\n",
       "      <th>JIM BEAM</th>\n",
       "      <td>1203462.70</td>\n",
       "    </tr>\n",
       "    <tr>\n",
       "      <th>JAMESON</th>\n",
       "      <td>1203393.72</td>\n",
       "    </tr>\n",
       "    <tr>\n",
       "      <th>CROWN ROYAL</th>\n",
       "      <td>1096071.66</td>\n",
       "    </tr>\n",
       "    <tr>\n",
       "      <th>CROWN ROYAL REGAL APPLE</th>\n",
       "      <td>970289.49</td>\n",
       "    </tr>\n",
       "    <tr>\n",
       "      <th>SEAGRAMS 7 CROWN BL WHISKEY</th>\n",
       "      <td>952781.56</td>\n",
       "    </tr>\n",
       "    <tr>\n",
       "      <th>SOUTHERN COMFORT</th>\n",
       "      <td>762681.32</td>\n",
       "    </tr>\n",
       "  </tbody>\n",
       "</table>\n",
       "</div>"
      ],
      "text/plain": [
       "                                             0\n",
       "Year Item Description                         \n",
       "2015 BLACK VELVET                   4134233.75\n",
       "     JACK DANIELS OLD #7 BLACK LBL  3331286.69\n",
       "     FIREBALL CINNAMON WHISKEY      2501777.81\n",
       "     CROWN ROYAL CANADIAN WHISKY    2293593.74\n",
       "     JIM BEAM                       1203462.70\n",
       "     JAMESON                        1203393.72\n",
       "     CROWN ROYAL                    1096071.66\n",
       "     CROWN ROYAL REGAL APPLE         970289.49\n",
       "     SEAGRAMS 7 CROWN BL WHISKEY     952781.56\n",
       "     SOUTHERN COMFORT                762681.32"
      ]
     },
     "execution_count": 113,
     "metadata": {},
     "output_type": "execute_result"
    }
   ],
   "source": [
    "total_year_sales.loc[(2015, slice(None)), :].sort_values(by=0, ascending=False).head(10)"
   ]
  },
  {
   "cell_type": "code",
   "execution_count": 145,
   "metadata": {
    "ExecuteTime": {
     "end_time": "2018-09-30T18:45:33.480568Z",
     "start_time": "2018-09-30T18:45:32.983061Z"
    },
    "run_control": {
     "frozen": false,
     "read_only": false
    }
   },
   "outputs": [
    {
     "data": {
      "image/png": "[encoded data removed]",
      "text/plain": [
       "<matplotlib.figure.Figure at 0x7fb01cfdaf28>"
      ]
     },
     "metadata": {},
     "output_type": "display_data"
    }
   ],
   "source": [
    "figsize(10, 8)\n",
    "nd = np.arange(10)\n",
    "width = 0.8\n",
    "fig, ax = plt.subplots()\n",
    "p1 = ax.barh(np.arange(10),\\\n",
    "            np.array([float(total_year_sales.loc[(2012, 'BLACK VELVET'), :]),\n",
    "                      float(total_year_sales.loc[(2012, 'JACK DANIELS OLD #7 BLACK LBL'), :]),\n",
    "                      float(total_year_sales.loc[(2012, 'CROWN ROYAL CANADIAN WHISKY'), :]),\n",
    "                      float(total_year_sales.loc[(2012, \"TEMPLETON RYE\"), :]),\n",
    "                      float(total_year_sales.loc[(2012, \"JIM BEAM\"), :]),\n",
    "                      float(total_year_sales.loc[(2012, 'SEAGRAMS 7 CROWN BL WHISKEY'), :]),\n",
    "                      float(total_year_sales.loc[(2012, 'CROWN ROYAL'), :]),\n",
    "                      float(total_year_sales.loc[(2012, 'SOUTHERN COMFORT'), :]),\n",
    "                      float(total_year_sales.loc[(2012, \"FIREBALL CINNAMON WHISKEY\"), :]),\n",
    "                      float(total_year_sales.loc[(2012, \"JAMESON\"), :])]),\\\n",
    "            width / 2, color='black')\n",
    "p2 = ax.barh(np.array([0, 1, 2, 3, 4, 5, 6, 7, 8, 9]) + width / 8,\\\n",
    "            np.array([float(total_year_sales.loc[(2013, 'BLACK VELVET'), :]),\n",
    "                      float(total_year_sales.loc[(2013, 'JACK DANIELS OLD #7 BLACK LBL'), :]),\n",
    "                      float(total_year_sales.loc[(2013, 'CROWN ROYAL CANADIAN WHISKY'), :]),\n",
    "                      float(total_year_sales.loc[(2013, 'TEMPLETON RYE'), :]),\n",
    "                      float(total_year_sales.loc[(2013, 'JIM BEAM'), :]),\n",
    "                      float(total_year_sales.loc[(2013, 'SEAGRAMS 7 CROWN BL WHISKEY'), :]),\n",
    "                      float(total_year_sales.loc[(2013, \"CROWN ROYAL\"), :]),\n",
    "                      float(total_year_sales.loc[(2013, \"SOUTHERN COMFORT\"), :]),\n",
    "                      float(total_year_sales.loc[(2013, 'FIREBALL CINNAMON WHISKEY'), :]),\n",
    "                      float(total_year_sales.loc[(2013, \"JAMESON\"), :])]), width / 2,\\\n",
    "            color='blue')\n",
    "p3 = ax.barh(np.array([0, 1, 2, 3, 4, 5, 6, 7, 8, 9]) + width / 4,\\\n",
    "            np.array([float(total_year_sales.loc[(2014, 'BLACK VELVET'), :]),\n",
    "                      float(total_year_sales.loc[(2014, 'JACK DANIELS OLD #7 BLACK LBL'), :]),\n",
    "                      float(total_year_sales.loc[(2014, 'CROWN ROYAL CANADIAN WHISKY'), :]),\n",
    "                      float(total_year_sales.loc[(2014, 'TEMPLETON RYE'), :]),\n",
    "                      float(total_year_sales.loc[(2014, 'JIM BEAM'), :]),\n",
    "                      float(total_year_sales.loc[(2014, 'SEAGRAMS 7 CROWN BL WHISKEY'), :]),\n",
    "                      float(total_year_sales.loc[(2014, \"CROWN ROYAL\"), :]),\n",
    "                      float(total_year_sales.loc[(2014, \"SOUTHERN COMFORT\"), :]),\n",
    "                      float(total_year_sales.loc[(2013, 'FIREBALL CINNAMON WHISKEY'), :]),\n",
    "                      float(total_year_sales.loc[(2013, \"JAMESON\"), :])]),\\\n",
    "            width / 2, color='cyan')\n",
    "p4 = ax.barh(np.array([0, 1, 2, 3, 4, 5, 6, 7, 8, 9]) + 3 * width / 8,\n",
    "            np.array([float(total_year_sales.loc[(2015, 'BLACK VELVET'), :]),\n",
    "                      float(total_year_sales.loc[(2015, 'JACK DANIELS OLD #7 BLACK LBL'), :]),\n",
    "                      float(total_year_sales.loc[(2015, 'CROWN ROYAL CANADIAN WHISKY'), :]),\n",
    "                      float(total_year_sales.loc[(2015, 'TEMPLETON RYE'), :]),\n",
    "                      float(total_year_sales.loc[(2015, 'JIM BEAM'), :]),\n",
    "                      float(total_year_sales.loc[(2015, 'SEAGRAMS 7 CROWN BL WHISKEY'), :]),\n",
    "                      float(total_year_sales.loc[(2015, \"CROWN ROYAL\"), :]),\n",
    "                      float(total_year_sales.loc[(2015, \"SOUTHERN COMFORT\"), :]),\n",
    "                      float(total_year_sales.loc[(2015, \"FIREBALL CINNAMON WHISKEY\"), :]),\n",
    "                      float(total_year_sales.loc[(2015, \"JAMESON\"), :])]),\\\n",
    "            width / 2, color='red')\n",
    "plt.yticks(nd + width / 4, ('BLACK VELVET', 'JACK DANIELS OLD #7 BLACK LBL', 'CROWN ROYAL CANADIAN WHISKY',\\\n",
    "                            'TEMPLETON RYE', 'JIM BEAM', 'SEAGRAMS 7 CROWN BL WHISKEY', 'CROWN ROYAL',\\\n",
    "                            'SOUTHERN COMFORT', 'FIREBALL CINNAMON WHISKEY', 'JAMESON'), fontsize=10)\n",
    "ax.legend((p1[0], p2[0], p3[0], p4[0]), ('2012 год', '2013 год', '2014 год', '2015 год'))\n",
    "plt.ylim(-1, 10)\n",
    "plt.ylabel('марка', fontsize=14)\n",
    "plt.xlabel('абсолютная разница, $', fontsize=14)\n",
    "plt.xticks(rotation=45)\n",
    "plt.title('Выручка с продаж', fontsize=16)\n",
    "plt.show()"
   ]
  },
  {
   "cell_type": "code",
   "execution_count": 142,
   "metadata": {
    "ExecuteTime": {
     "end_time": "2018-09-30T18:42:35.716832Z",
     "start_time": "2018-09-30T18:42:35.598965Z"
    },
    "run_control": {
     "frozen": false,
     "read_only": false
    }
   },
   "outputs": [],
   "source": [
    "unique_vol, counts_vol = np.unique(dataset.loc[:, 'Bottle Volume (ml)'], return_counts=True)"
   ]
  },
  {
   "cell_type": "code",
   "execution_count": 144,
   "metadata": {
    "ExecuteTime": {
     "end_time": "2018-09-30T18:44:45.613589Z",
     "start_time": "2018-09-30T18:44:45.598522Z"
    },
    "run_control": {
     "frozen": false,
     "read_only": false
    }
   },
   "outputs": [
    {
     "data": {
      "text/html": [
       "<div>\n",
       "<table border=\"1\" class=\"dataframe\">\n",
       "  <thead>\n",
       "    <tr style=\"text-align: right;\">\n",
       "      <th></th>\n",
       "      <th>количество заказов</th>\n",
       "    </tr>\n",
       "    <tr>\n",
       "      <th>объём бутылки, мл</th>\n",
       "      <th></th>\n",
       "    </tr>\n",
       "  </thead>\n",
       "  <tbody>\n",
       "    <tr>\n",
       "      <th>750</th>\n",
       "      <td>1486254</td>\n",
       "    </tr>\n",
       "    <tr>\n",
       "      <th>1750</th>\n",
       "      <td>830335</td>\n",
       "    </tr>\n",
       "    <tr>\n",
       "      <th>1000</th>\n",
       "      <td>513985</td>\n",
       "    </tr>\n",
       "    <tr>\n",
       "      <th>375</th>\n",
       "      <td>402491</td>\n",
       "    </tr>\n",
       "    <tr>\n",
       "      <th>500</th>\n",
       "      <td>137159</td>\n",
       "    </tr>\n",
       "    <tr>\n",
       "      <th>200</th>\n",
       "      <td>123996</td>\n",
       "    </tr>\n",
       "    <tr>\n",
       "      <th>3000</th>\n",
       "      <td>54868</td>\n",
       "    </tr>\n",
       "    <tr>\n",
       "      <th>600</th>\n",
       "      <td>54354</td>\n",
       "    </tr>\n",
       "    <tr>\n",
       "      <th>300</th>\n",
       "      <td>52360</td>\n",
       "    </tr>\n",
       "    <tr>\n",
       "      <th>100</th>\n",
       "      <td>12259</td>\n",
       "    </tr>\n",
       "    <tr>\n",
       "      <th>50</th>\n",
       "      <td>1108</td>\n",
       "    </tr>\n",
       "    <tr>\n",
       "      <th>4800</th>\n",
       "      <td>476</td>\n",
       "    </tr>\n",
       "    <tr>\n",
       "      <th>1125</th>\n",
       "      <td>209</td>\n",
       "    </tr>\n",
       "    <tr>\n",
       "      <th>3500</th>\n",
       "      <td>155</td>\n",
       "    </tr>\n",
       "    <tr>\n",
       "      <th>250</th>\n",
       "      <td>37</td>\n",
       "    </tr>\n",
       "    <tr>\n",
       "      <th>603</th>\n",
       "      <td>23</td>\n",
       "    </tr>\n",
       "    <tr>\n",
       "      <th>2250</th>\n",
       "      <td>16</td>\n",
       "    </tr>\n",
       "    <tr>\n",
       "      <th>502</th>\n",
       "      <td>10</td>\n",
       "    </tr>\n",
       "    <tr>\n",
       "      <th>31500</th>\n",
       "      <td>8</td>\n",
       "    </tr>\n",
       "    <tr>\n",
       "      <th>1200</th>\n",
       "      <td>8</td>\n",
       "    </tr>\n",
       "    <tr>\n",
       "      <th>180000</th>\n",
       "      <td>3</td>\n",
       "    </tr>\n",
       "    <tr>\n",
       "      <th>189000</th>\n",
       "      <td>2</td>\n",
       "    </tr>\n",
       "    <tr>\n",
       "      <th>7580</th>\n",
       "      <td>1</td>\n",
       "    </tr>\n",
       "    <tr>\n",
       "      <th>4500</th>\n",
       "      <td>1</td>\n",
       "    </tr>\n",
       "    <tr>\n",
       "      <th>0</th>\n",
       "      <td>1</td>\n",
       "    </tr>\n",
       "  </tbody>\n",
       "</table>\n",
       "</div>"
      ],
      "text/plain": [
       "                   количество заказов\n",
       "объём бутылки, мл                    \n",
       "750                           1486254\n",
       "1750                           830335\n",
       "1000                           513985\n",
       "375                            402491\n",
       "500                            137159\n",
       "200                            123996\n",
       "3000                            54868\n",
       "600                             54354\n",
       "300                             52360\n",
       "100                             12259\n",
       "50                               1108\n",
       "4800                              476\n",
       "1125                              209\n",
       "3500                              155\n",
       "250                                37\n",
       "603                                23\n",
       "2250                               16\n",
       "502                                10\n",
       "31500                               8\n",
       "1200                                8\n",
       "180000                              3\n",
       "189000                              2\n",
       "7580                                1\n",
       "4500                                1\n",
       "0                                   1"
      ]
     },
     "execution_count": 144,
     "metadata": {},
     "output_type": "execute_result"
    }
   ],
   "source": [
    "vol_df = pd.DataFrame({'объём бутылки, мл': unique_vol, 'количество заказов': counts_vol})\n",
    "vol_df.sort_values(['количество заказов'], ascending=False, inplace=True)\n",
    "vol_df.set_index(drop=True, inplace=True, keys='объём бутылки, мл')\n",
    "vol_df"
   ]
  },
  {
   "cell_type": "code",
   "execution_count": 146,
   "metadata": {
    "ExecuteTime": {
     "end_time": "2018-09-30T18:55:51.460005Z",
     "start_time": "2018-09-30T18:55:50.977036Z"
    },
    "run_control": {
     "frozen": false,
     "read_only": false
    }
   },
   "outputs": [],
   "source": [
    "total_year_sales = dataset.loc[:, ['Item Description', 'Bottle Volume (ml)',\\\n",
    "                                                'Bottles Sold']].groupby(['Item Description',\\\n",
    "                                                                          'Bottle Volume (ml)']).sum()"
   ]
  },
  {
   "cell_type": "code",
   "execution_count": 148,
   "metadata": {
    "ExecuteTime": {
     "end_time": "2018-09-30T18:57:36.940196Z",
     "start_time": "2018-09-30T18:57:36.910486Z"
    },
    "run_control": {
     "frozen": false,
     "read_only": false
    }
   },
   "outputs": [
    {
     "data": {
      "text/html": [
       "<div>\n",
       "<table border=\"1\" class=\"dataframe\">\n",
       "  <thead>\n",
       "    <tr style=\"text-align: right;\">\n",
       "      <th></th>\n",
       "      <th></th>\n",
       "      <th>Bottles Sold</th>\n",
       "    </tr>\n",
       "    <tr>\n",
       "      <th>Item Description</th>\n",
       "      <th>Bottle Volume (ml)</th>\n",
       "      <th></th>\n",
       "    </tr>\n",
       "  </thead>\n",
       "  <tbody>\n",
       "    <tr>\n",
       "      <th rowspan=\"5\" valign=\"top\">BLACK VELVET</th>\n",
       "      <th>200</th>\n",
       "      <td>541076</td>\n",
       "    </tr>\n",
       "    <tr>\n",
       "      <th>375</th>\n",
       "      <td>693869</td>\n",
       "    </tr>\n",
       "    <tr>\n",
       "      <th>750</th>\n",
       "      <td>761314</td>\n",
       "    </tr>\n",
       "    <tr>\n",
       "      <th>1000</th>\n",
       "      <td>705293</td>\n",
       "    </tr>\n",
       "    <tr>\n",
       "      <th>1750</th>\n",
       "      <td>2521271</td>\n",
       "    </tr>\n",
       "  </tbody>\n",
       "</table>\n",
       "</div>"
      ],
      "text/plain": [
       "                                     Bottles Sold\n",
       "Item Description Bottle Volume (ml)              \n",
       "BLACK VELVET     200                       541076\n",
       "                 375                       693869\n",
       "                 750                       761314\n",
       "                 1000                      705293\n",
       "                 1750                     2521271"
      ]
     },
     "execution_count": 148,
     "metadata": {},
     "output_type": "execute_result"
    }
   ],
   "source": [
    "total_year_sales.loc[('BLACK VELVET', slice(None)), :]"
   ]
  },
  {
   "cell_type": "code",
   "execution_count": 149,
   "metadata": {
    "ExecuteTime": {
     "end_time": "2018-09-30T18:58:09.658332Z",
     "start_time": "2018-09-30T18:58:09.639504Z"
    },
    "run_control": {
     "frozen": false,
     "read_only": false
    }
   },
   "outputs": [
    {
     "data": {
      "text/html": [
       "<div>\n",
       "<table border=\"1\" class=\"dataframe\">\n",
       "  <thead>\n",
       "    <tr style=\"text-align: right;\">\n",
       "      <th></th>\n",
       "      <th></th>\n",
       "      <th>Bottles Sold</th>\n",
       "    </tr>\n",
       "    <tr>\n",
       "      <th>Item Description</th>\n",
       "      <th>Bottle Volume (ml)</th>\n",
       "      <th></th>\n",
       "    </tr>\n",
       "  </thead>\n",
       "  <tbody>\n",
       "    <tr>\n",
       "      <th rowspan=\"4\" valign=\"top\">JACK DANIELS OLD #7 BLACK LBL</th>\n",
       "      <th>200</th>\n",
       "      <td>165882</td>\n",
       "    </tr>\n",
       "    <tr>\n",
       "      <th>750</th>\n",
       "      <td>602324</td>\n",
       "    </tr>\n",
       "    <tr>\n",
       "      <th>1000</th>\n",
       "      <td>829246</td>\n",
       "    </tr>\n",
       "    <tr>\n",
       "      <th>1750</th>\n",
       "      <td>234290</td>\n",
       "    </tr>\n",
       "  </tbody>\n",
       "</table>\n",
       "</div>"
      ],
      "text/plain": [
       "                                                  Bottles Sold\n",
       "Item Description              Bottle Volume (ml)              \n",
       "JACK DANIELS OLD #7 BLACK LBL 200                       165882\n",
       "                              750                       602324\n",
       "                              1000                      829246\n",
       "                              1750                      234290"
      ]
     },
     "execution_count": 149,
     "metadata": {},
     "output_type": "execute_result"
    }
   ],
   "source": [
    "total_year_sales.loc[('JACK DANIELS OLD #7 BLACK LBL', slice(None)), :]"
   ]
  },
  {
   "cell_type": "code",
   "execution_count": 151,
   "metadata": {
    "ExecuteTime": {
     "end_time": "2018-09-30T18:58:52.943658Z",
     "start_time": "2018-09-30T18:58:52.915241Z"
    },
    "run_control": {
     "frozen": false,
     "read_only": false
    }
   },
   "outputs": [
    {
     "data": {
      "text/html": [
       "<div>\n",
       "<table border=\"1\" class=\"dataframe\">\n",
       "  <thead>\n",
       "    <tr style=\"text-align: right;\">\n",
       "      <th></th>\n",
       "      <th></th>\n",
       "      <th>Bottles Sold</th>\n",
       "    </tr>\n",
       "    <tr>\n",
       "      <th>Item Description</th>\n",
       "      <th>Bottle Volume (ml)</th>\n",
       "      <th></th>\n",
       "    </tr>\n",
       "  </thead>\n",
       "  <tbody>\n",
       "    <tr>\n",
       "      <th rowspan=\"4\" valign=\"top\">CROWN ROYAL CANADIAN WHISKY</th>\n",
       "      <th>200</th>\n",
       "      <td>74543</td>\n",
       "    </tr>\n",
       "    <tr>\n",
       "      <th>375</th>\n",
       "      <td>240523</td>\n",
       "    </tr>\n",
       "    <tr>\n",
       "      <th>1000</th>\n",
       "      <td>771356</td>\n",
       "    </tr>\n",
       "    <tr>\n",
       "      <th>1750</th>\n",
       "      <td>165432</td>\n",
       "    </tr>\n",
       "  </tbody>\n",
       "</table>\n",
       "</div>"
      ],
      "text/plain": [
       "                                                Bottles Sold\n",
       "Item Description            Bottle Volume (ml)              \n",
       "CROWN ROYAL CANADIAN WHISKY 200                        74543\n",
       "                            375                       240523\n",
       "                            1000                      771356\n",
       "                            1750                      165432"
      ]
     },
     "execution_count": 151,
     "metadata": {},
     "output_type": "execute_result"
    }
   ],
   "source": [
    "total_year_sales.loc[('CROWN ROYAL CANADIAN WHISKY', slice(None)), :]"
   ]
  },
  {
   "cell_type": "code",
   "execution_count": 153,
   "metadata": {
    "ExecuteTime": {
     "end_time": "2018-09-30T19:06:09.428156Z",
     "start_time": "2018-09-30T19:06:08.866563Z"
    },
    "run_control": {
     "frozen": false,
     "read_only": false
    }
   },
   "outputs": [
    {
     "data": {
      "image/png": "[encoded data removed]",
      "text/plain": [
       "<matplotlib.figure.Figure at 0x7fb01cdbfe10>"
      ]
     },
     "metadata": {},
     "output_type": "display_data"
    }
   ],
   "source": [
    "plt.figure(figsize=(10, 8))\n",
    "plt.title('Предпочтительный объём бутылки в заказе', fontsize=16)\n",
    "plt.xlabel(r'объём, мл', fontsize=14)\n",
    "plt.xscale('log')\n",
    "plt.ylabel(r'количество бутылок', fontsize=14)\n",
    "plt.yscale('log')\n",
    "#plt.axis([1, 366, 0, 250000])\n",
    "plt.scatter(np.array(vol_df.index),\n",
    "            np.array(vol_df.as_matrix()).ravel(), c='black',\n",
    "            linewidth=4, marker='*', s=24)\n",
    "plt.legend(loc=2)\n",
    "plt.show()"
   ]
  },
  {
   "cell_type": "code",
   "execution_count": 157,
   "metadata": {
    "ExecuteTime": {
     "end_time": "2018-09-30T19:25:12.489796Z",
     "start_time": "2018-09-30T19:25:12.476125Z"
    },
    "run_control": {
     "frozen": false,
     "read_only": false
    }
   },
   "outputs": [
    {
     "data": {
      "text/html": [
       "<div>\n",
       "<table border=\"1\" class=\"dataframe\">\n",
       "  <thead>\n",
       "    <tr style=\"text-align: right;\">\n",
       "      <th></th>\n",
       "      <th></th>\n",
       "      <th>Bottles Sold</th>\n",
       "    </tr>\n",
       "    <tr>\n",
       "      <th>Item Description</th>\n",
       "      <th>Bottle Volume (ml)</th>\n",
       "      <th></th>\n",
       "    </tr>\n",
       "  </thead>\n",
       "  <tbody>\n",
       "    <tr>\n",
       "      <th rowspan=\"4\" valign=\"top\">CROWN ROYAL CANADIAN WHISKY</th>\n",
       "      <th>200</th>\n",
       "      <td>74543</td>\n",
       "    </tr>\n",
       "    <tr>\n",
       "      <th>375</th>\n",
       "      <td>240523</td>\n",
       "    </tr>\n",
       "    <tr>\n",
       "      <th>1000</th>\n",
       "      <td>771356</td>\n",
       "    </tr>\n",
       "    <tr>\n",
       "      <th>1750</th>\n",
       "      <td>165432</td>\n",
       "    </tr>\n",
       "  </tbody>\n",
       "</table>\n",
       "</div>"
      ],
      "text/plain": [
       "                                                Bottles Sold\n",
       "Item Description            Bottle Volume (ml)              \n",
       "CROWN ROYAL CANADIAN WHISKY 200                        74543\n",
       "                            375                       240523\n",
       "                            1000                      771356\n",
       "                            1750                      165432"
      ]
     },
     "execution_count": 157,
     "metadata": {},
     "output_type": "execute_result"
    }
   ],
   "source": [
    "total_year_sales.loc[('CROWN ROYAL CANADIAN WHISKY', slice(None)), :]"
   ]
  },
  {
   "cell_type": "code",
   "execution_count": 159,
   "metadata": {
    "ExecuteTime": {
     "end_time": "2018-09-30T19:27:04.200153Z",
     "start_time": "2018-09-30T19:27:03.968982Z"
    },
    "run_control": {
     "frozen": false,
     "read_only": false
    }
   },
   "outputs": [
    {
     "data": {
      "image/png": "[encoded data removed]",
      "text/plain": [
       "<matplotlib.figure.Figure at 0x7fb01ceef470>"
      ]
     },
     "metadata": {},
     "output_type": "display_data"
    }
   ],
   "source": [
    "figsize(10, 8)\n",
    "nd = np.arange(5)\n",
    "width = 0.8\n",
    "fig, ax = plt.subplots()\n",
    "p1 = ax.bar(np.array([0, 1, 2, 3, 4]),\\\n",
    "            np.array([float(total_year_sales.loc[('BLACK VELVET', 200), :]),\n",
    "                      float(total_year_sales.loc[('BLACK VELVET', 375), :]),\n",
    "                      float(total_year_sales.loc[('BLACK VELVET', 750), :]),\n",
    "                      float(total_year_sales.loc[('BLACK VELVET', 1000), :]),\n",
    "                      float(total_year_sales.loc[('BLACK VELVET', 1750), :])]),\\\n",
    "            width / 2, color='black')\n",
    "p2 = ax.bar(np.array([0, 2, 3, 4]) + width / 8,\\\n",
    "            np.array([float(total_year_sales.loc[('JACK DANIELS OLD #7 BLACK LBL', 200), :]),\n",
    "                      float(total_year_sales.loc[('JACK DANIELS OLD #7 BLACK LBL', 750), :]),\n",
    "                      float(total_year_sales.loc[('JACK DANIELS OLD #7 BLACK LBL', 1000), :]),\n",
    "                      float(total_year_sales.loc[('JACK DANIELS OLD #7 BLACK LBL', 1750), :])]), width / 2,\\\n",
    "            color='blue')\n",
    "p3 = ax.bar(np.array([0, 1, 3, 4]) + width / 4,\\\n",
    "            np.array([float(total_year_sales.loc[('CROWN ROYAL CANADIAN WHISKY', 200), :]),\n",
    "                      float(total_year_sales.loc[('CROWN ROYAL CANADIAN WHISKY', 375), :]),\n",
    "                      float(total_year_sales.loc[('CROWN ROYAL CANADIAN WHISKY', 1000), :]),\n",
    "                      float(total_year_sales.loc[('CROWN ROYAL CANADIAN WHISKY', 1750), :])]),\\\n",
    "            width / 2, color='red')\n",
    "plt.xticks(nd + width / 4, ('200', '375', '750', '1000', '1750'), fontsize=10)\n",
    "ax.legend((p1[0], p2[0], p3[0]), ('BLACK VELVET', 'JACK DANIELS OLD #7 BLACK LBL',\\\n",
    "                                  'CROWN ROYAL CANADIAN WHISKY'))\n",
    "plt.xlim(-1, 5)\n",
    "plt.xlabel('объём бутылки, мл', fontsize=14)\n",
    "plt.ylabel('количество бутылок', fontsize=14)\n",
    "#plt.xticks(rotation=45)\n",
    "plt.title('Предпочтения в заказах самых продающихся марок', fontsize=16)\n",
    "plt.show()"
   ]
  },
  {
   "cell_type": "code",
   "execution_count": null,
   "metadata": {
    "run_control": {
     "frozen": false,
     "read_only": false
    }
   },
   "outputs": [],
   "source": []
  }
 ],
 "metadata": {
  "kernelspec": {
   "display_name": "Python 3",
   "language": "python",
   "name": "python3"
  },
  "language_info": {
   "codemirror_mode": {
    "name": "ipython",
    "version": 3
   },
   "file_extension": ".py",
   "mimetype": "text/x-python",
   "name": "python",
   "nbconvert_exporter": "python",
   "pygments_lexer": "ipython3",
   "version": "3.5.2"
  }
 },
 "nbformat": 4,
 "nbformat_minor": 2
}
